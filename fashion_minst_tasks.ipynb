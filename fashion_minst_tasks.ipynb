{
 "cells": [
  {
   "cell_type": "markdown",
   "metadata": {},
   "source": [
    "# Домашнее задание 1 - Классификация\n",
    "<br>\n",
    "\n",
    "Задание выполнил(а): *Кокосинский Денис, группа 525*\n",
    "<br>\n",
    "**Дедлайн:** 27.10.2020 23:59\n",
    "\n",
    "\n",
    "### О задании\n",
    "В этом домашнем задании вы научитесь работать с CAS при помощи библиотеки swat, познакомитесь c библиотекой dlpy, позволяющей использовать функциональность SAS для глубинного обучения из Python, а так же постороите с помощью этих библиотек модель для классификации изображений одежды.\n",
    "<br>\n",
    "Для выполнения заданий нужно самостоятельно написать или дополнить написанный код, а так же письменно ответить на вопросы (в зависимости от задания).\n",
    "\n",
    "**Домашнее задание построено следующим образом:**\n",
    "- Подключение к серверу CAS\n",
    "- Задание 1: Загрузка данных в CAS (1 балл)\n",
    "- Задание 2: Посмотрим на данные (1 балл)\n",
    "- Задание 3: Выделение валидационной выборки из train (1 балл)\n",
    "- Задание 4: Построение нейронной сети (3 балла)\n",
    "- Задание 5: Обучение сети (2 балла)\n",
    "- Задание 6: Оценка качества полученной модели (2 балла)\n",
    "- Дополнительное задание: Aугментации исходных данных (+2 балла)<br>\n",
    "\n",
    "Итого, полностью выполнив задание вы получите 10 баллов. Вы также можете выполнить дополнительное задание, чтобы получить еще 2 бонусных балла.\n",
    "\n",
    "### Формат сдачи\n",
    "\n",
    "После того, как вы выполните домашную работу, поместите jupyter notebook с выполнеными заданиями, а так же все SAS-таблицы с сохраненными моделями в закрытый git-репозиторий на GitHub. Предоставьте доступ к репозиторию аккаунтам GazizovMarat и Ala1s (добавив в свой реппозиторий в качестве коллабораторов).\n",
    "\n",
    "### Важно \n",
    "Для того, чтобы ваши результаты были воспроизводимыми для проверки, указывайте seed при вызове методов, где это возможно. Напоминания об этом так же содержатся в тексте заданий."
   ]
  },
  {
   "cell_type": "code",
   "execution_count": 1,
   "metadata": {},
   "outputs": [
    {
     "name": "stdout",
     "output_type": "stream",
     "text": [
      "Traceback (most recent call last):\r\n",
      "  File \"/bin/pip\", line 11, in <module>\r\n",
      "    load_entry_point('pip==21.0.1', 'console_scripts', 'pip')()\r\n",
      "  File \"/usr/lib/python2.7/site-packages/pkg_resources/__init__.py\", line 484, in load_entry_point\r\n",
      "    return get_distribution(dist).load_entry_point(group, name)\r\n",
      "  File \"/usr/lib/python2.7/site-packages/pkg_resources/__init__.py\", line 2714, in load_entry_point\r\n",
      "    return ep.load()\r\n",
      "  File \"/usr/lib/python2.7/site-packages/pkg_resources/__init__.py\", line 2332, in load\r\n",
      "    return self.resolve()\r\n",
      "  File \"/usr/lib/python2.7/site-packages/pkg_resources/__init__.py\", line 2338, in resolve\r\n",
      "    module = __import__(self.module_name, fromlist=['__name__'], level=0)\r\n",
      "  File \"/usr/lib/python2.7/site-packages/pip/_internal/cli/main.py\", line 60\r\n",
      "    sys.stderr.write(f\"ERROR: {exc}\")\r\n",
      "                                   ^\r\n",
      "SyntaxError: invalid syntax\r\n"
     ]
    }
   ],
   "source": [
    "!pip install sas-dlpy --user"
   ]
  },
  {
   "cell_type": "code",
   "execution_count": 2,
   "metadata": {},
   "outputs": [
    {
     "name": "stdout",
     "output_type": "stream",
     "text": [
      "Traceback (most recent call last):\r\n",
      "  File \"/bin/pip\", line 11, in <module>\r\n",
      "    load_entry_point('pip==21.0.1', 'console_scripts', 'pip')()\r\n",
      "  File \"/usr/lib/python2.7/site-packages/pkg_resources/__init__.py\", line 484, in load_entry_point\r\n",
      "    return get_distribution(dist).load_entry_point(group, name)\r\n",
      "  File \"/usr/lib/python2.7/site-packages/pkg_resources/__init__.py\", line 2714, in load_entry_point\r\n",
      "    return ep.load()\r\n",
      "  File \"/usr/lib/python2.7/site-packages/pkg_resources/__init__.py\", line 2332, in load\r\n",
      "    return self.resolve()\r\n",
      "  File \"/usr/lib/python2.7/site-packages/pkg_resources/__init__.py\", line 2338, in resolve\r\n",
      "    module = __import__(self.module_name, fromlist=['__name__'], level=0)\r\n",
      "  File \"/usr/lib/python2.7/site-packages/pip/_internal/cli/main.py\", line 60\r\n",
      "    sys.stderr.write(f\"ERROR: {exc}\")\r\n",
      "                                   ^\r\n",
      "SyntaxError: invalid syntax\r\n"
     ]
    }
   ],
   "source": [
    "!pip install opencv-python --user"
   ]
  },
  {
   "cell_type": "code",
   "execution_count": 3,
   "metadata": {},
   "outputs": [],
   "source": [
    "import os\n",
    "import numpy as np\n",
    "import cv2\n",
    "from tqdm import tqdm\n",
    "import matplotlib.pyplot as plt\n",
    "%matplotlib inline\n",
    "\n",
    "from swat import *\n",
    "from dlpy import Model, Sequential\n",
    "from dlpy.layers import *\n",
    "from dlpy.images import ImageTable\n",
    "from dlpy.splitting import two_way_split"
   ]
  },
  {
   "cell_type": "markdown",
   "metadata": {},
   "source": [
    "## Подключение к серверу CAS"
   ]
  },
  {
   "cell_type": "markdown",
   "metadata": {},
   "source": [
    "Подключитесь к серверу CAS под своим логином и паролем.<br>Загрузите следующие Action Sets: 'image','deepLearn'.<br>\n",
    "<br>\n",
    "Для выполнения задания обратитесь к документации по следующим ссылкам: <br>\n",
    "- https://sassoftware.github.io/python-swat/getting-started.html <br>"
   ]
  },
  {
   "cell_type": "code",
   "execution_count": 4,
   "metadata": {},
   "outputs": [
    {
     "name": "stdout",
     "output_type": "stream",
     "text": [
      "NOTE: Added action set 'image'.\n",
      "NOTE: Added action set 'deepLearn'.\n",
      "NOTE: Added action set 'datastep'.\n"
     ]
    },
    {
     "data": {
      "text/html": [
       "<div class=\"cas-results-key\"><b>&#167; actionset</b></div>\n",
       "<div class=\"cas-results-body\">\n",
       "<div>datastep</div>\n",
       "</div>\n",
       "<div class=\"cas-output-area\"></div>\n",
       "<p class=\"cas-results-performance\"><small><span class=\"cas-elapsed\">elapsed 0.000829s</span> &#183; <span class=\"cas-user\">user 0.000303s</span> &#183; <span class=\"cas-sys\">sys 0.000221s</span> &#183; <span class=\"cas-memory\">mem 0.221MB</span></small></p>"
      ],
      "text/plain": [
       "[actionset]\n",
       "\n",
       " 'datastep'\n",
       "\n",
       "+ Elapsed: 0.000829s, user: 0.000303s, sys: 0.000221s, mem: 0.221mb"
      ]
     },
     "execution_count": 4,
     "metadata": {},
     "output_type": "execute_result"
    }
   ],
   "source": [
    "# os.environ['CAS_CLIENT_SSL_CA_LIST'] = r\"/tmp/4fix/trustedcerts.pem\"\n",
    "\n",
    "# Создаем новую сессию CAS:\n",
    "\n",
    "s = CAS('tiger.cs.msu.ru', 5570, username='msu124', password='HilBert!$j')\n",
    "\n",
    "# Загружаем action sets:\n",
    "\n",
    "s.loadactionset('image')\n",
    "s.loadactionset('deepLearn')\n",
    "s.loadactionset('datastep')"
   ]
  },
  {
   "cell_type": "markdown",
   "metadata": {},
   "source": [
    "#### Загрузка данных\n",
    "Для работы с изображениями в SAS DLPy используются специализированные таблицы - ImageTable. Для загрузки набора данных, помимо сессии CAS и названия для новой таблицы, требуется указать путь к папке с набором данных сервере. \n",
    "При загрузке нужно указать путь к папке, устроенной следующим образом: <br>\n",
    "* shirt\n",
    "    - shirt_image0.png\n",
    "    - shirt_image1.png\n",
    "    - ...\n",
    "* pants\n",
    "    - pants_image0.png\n",
    "    - pants_image1.png\n",
    "    - ...\n",
    "* ... \n",
    "<br>\n",
    "То есть, папка должна состоять из подпапок, называющихся соответственно классам обьектов на изображении. В каждой из таких подпапок должны лежать все изобращения с обьектами соответствующего класса.<br>\n",
    "Папки train-images (обучающая выборка) и t10k-images (тестовая выборка) внутри папки data в этом репозитории устроены описанным выше образом. \n",
    "Также, данные fashion-MNIST можно скачать из следующего репозитория:<br> \n",
    "- https://github.com/zalandoresearch/fashion-mnist <br>\n",
    "\n",
    "**Задание 1: Загрузка данных в CAS**<br>\n",
    "Загрузите обучающие и тестовые данные в CAS, создав ImageTable (для каждой выборки отдельно)."
   ]
  },
  {
   "cell_type": "code",
   "execution_count": 5,
   "metadata": {},
   "outputs": [
    {
     "name": "stdout",
     "output_type": "stream",
     "text": [
      "t10k-images  train-images\r\n"
     ]
    }
   ],
   "source": [
    "! ls data"
   ]
  },
  {
   "cell_type": "code",
   "execution_count": 6,
   "metadata": {},
   "outputs": [],
   "source": [
    "# создайте ImageTable для обучающей выборки #\n",
    "path_train = \"/var/home/msu124/SAS-CV-2020-Homework1/data/train-images/\"\n",
    "train = ImageTable.load_files(s, path_train, casout=None, columns=None, caslib=None)"
   ]
  },
  {
   "cell_type": "code",
   "execution_count": 7,
   "metadata": {},
   "outputs": [],
   "source": [
    "# создайте ImageTable для тестовой выборки #\n",
    "path_test = \"/var/home/msu124/SAS-CV-2020-Homework1/data/t10k-images/\"\n",
    "test = ImageTable.load_files(s, path_test, casout=None, columns=None, caslib=None)"
   ]
  },
  {
   "cell_type": "markdown",
   "metadata": {},
   "source": [
    "**Задание 2: Исследование данных**<br>\n",
    "а) С помощью метода show выведите 16 случайных изображений из ImageTable в таблице размером 4x4 ячейки (для train и test отдельно)."
   ]
  },
  {
   "cell_type": "code",
   "execution_count": 8,
   "metadata": {
    "scrolled": true
   },
   "outputs": [
    {
     "data": {
      "image/png": "[encoded data removed]",
      "text/plain": [
       "<Figure size 576x432 with 16 Axes>"
      ]
     },
     "metadata": {},
     "output_type": "display_data"
    }
   ],
   "source": [
    "# выведите 16 изображений из обучающей выборки #\n",
    "train.show(nimages=16, ncol=8, randomize=False, figsize=(8,6), where=None, id=None)"
   ]
  },
  {
   "cell_type": "code",
   "execution_count": 9,
   "metadata": {},
   "outputs": [
    {
     "data": {
      "image/png": "[encoded data removed]",
      "text/plain": [
       "<Figure size 576x432 with 16 Axes>"
      ]
     },
     "metadata": {},
     "output_type": "display_data"
    }
   ],
   "source": [
    "# выведите 16 изображений из тестовой выборки #\n",
    "test.show(nimages=16, ncol=8, randomize=False, figsize=(8,6), where=None, id=None)"
   ]
  },
  {
   "cell_type": "markdown",
   "metadata": {},
   "source": [
    "b) Найдите метод класса ImageTable, позволяющий подсчитать статистику по метаданным таблицы (например, средние размеры или значения пикселей). Примените этот метод к таблицам, в которые вы загрузили наборы данных train и test."
   ]
  },
  {
   "cell_type": "code",
   "execution_count": 10,
   "metadata": {},
   "outputs": [
    {
     "data": {
      "text/plain": [
       "jpg                 60000\n",
       "minWidth               28\n",
       "maxWidth               28\n",
       "minHeight              28\n",
       "maxHeight              28\n",
       "meanWidth              28\n",
       "meanHeight             28\n",
       "mean1stChannel    72.9404\n",
       "min1stChannel           0\n",
       "max1stChannel         255\n",
       "mean2ndChannel          0\n",
       "min2ndChannel           0\n",
       "max2ndChannel           0\n",
       "mean3rdChannel          0\n",
       "min3rdChannel           0\n",
       "max3rdChannel           0\n",
       "dtype: object"
      ]
     },
     "execution_count": 10,
     "metadata": {},
     "output_type": "execute_result"
    }
   ],
   "source": [
    "# статистики по метаданным для train #\n",
    "train.image_summary"
   ]
  },
  {
   "cell_type": "code",
   "execution_count": 11,
   "metadata": {},
   "outputs": [
    {
     "data": {
      "text/plain": [
       "jpg                 10000\n",
       "minWidth               28\n",
       "maxWidth               28\n",
       "minHeight              28\n",
       "maxHeight              28\n",
       "meanWidth              28\n",
       "meanHeight             28\n",
       "mean1stChannel    73.1466\n",
       "min1stChannel           0\n",
       "max1stChannel         255\n",
       "mean2ndChannel          0\n",
       "min2ndChannel           0\n",
       "max2ndChannel           0\n",
       "mean3rdChannel          0\n",
       "min3rdChannel           0\n",
       "max3rdChannel           0\n",
       "dtype: object"
      ]
     },
     "execution_count": 11,
     "metadata": {},
     "output_type": "execute_result"
    }
   ],
   "source": [
    "# статистики по метаданным для test #\n",
    "test.image_summary"
   ]
  },
  {
   "cell_type": "markdown",
   "metadata": {},
   "source": [
    "**Задание 3: Выделение валидационной выборки из train**<br>\n",
    "- Перед тем, как выделить из train выборку для валидации модели, посмотрите на распределение классов (с помощью свойства ImageTable).\n",
    "- Выделите из таблицы train выборку в размере 15 процентов от исходного с помощью two_way_split. Убедитесь, что вы задали seed, для того, чтобы мы могли воспроизвести и проверить ваши результаты), а возвращаемые таблицы - типа ImageTable, как и исходная.\n",
    "- После выделения validate выборки, снова посмотрите на распреление классов на train и validate выборках, чтобы убедиться, что в обеих выборках присутстует равное количество примеров для каждого из классов."
   ]
  },
  {
   "cell_type": "code",
   "execution_count": 12,
   "metadata": {},
   "outputs": [
    {
     "data": {
      "text/html": [
       "<div>\n",
       "<style scoped>\n",
       "    .dataframe tbody tr th:only-of-type {\n",
       "        vertical-align: middle;\n",
       "    }\n",
       "\n",
       "    .dataframe tbody tr th {\n",
       "        vertical-align: top;\n",
       "    }\n",
       "\n",
       "    .dataframe thead th {\n",
       "        text-align: right;\n",
       "    }\n",
       "</style>\n",
       "<table border=\"1\" class=\"dataframe\"><caption>Frequency for IMAGEDATA_PF3IK4</caption>\n",
       "  <thead>\n",
       "    <tr style=\"text-align: right;\">\n",
       "      <th title=\"\"></th>\n",
       "      <th title=\"Level\">Level</th>\n",
       "      <th title=\"Frequency\">Frequency</th>\n",
       "    </tr>\n",
       "  </thead>\n",
       "  <tbody>\n",
       "    <tr>\n",
       "      <th>Ankle_boot</th>\n",
       "      <td>1</td>\n",
       "      <td>6000</td>\n",
       "    </tr>\n",
       "    <tr>\n",
       "      <th>Bag</th>\n",
       "      <td>2</td>\n",
       "      <td>6000</td>\n",
       "    </tr>\n",
       "    <tr>\n",
       "      <th>Coat</th>\n",
       "      <td>3</td>\n",
       "      <td>6000</td>\n",
       "    </tr>\n",
       "    <tr>\n",
       "      <th>Dress</th>\n",
       "      <td>4</td>\n",
       "      <td>6000</td>\n",
       "    </tr>\n",
       "    <tr>\n",
       "      <th>Pullover</th>\n",
       "      <td>5</td>\n",
       "      <td>6000</td>\n",
       "    </tr>\n",
       "    <tr>\n",
       "      <th>Sandal</th>\n",
       "      <td>6</td>\n",
       "      <td>6000</td>\n",
       "    </tr>\n",
       "    <tr>\n",
       "      <th>Shirt</th>\n",
       "      <td>7</td>\n",
       "      <td>6000</td>\n",
       "    </tr>\n",
       "    <tr>\n",
       "      <th>Sneaker</th>\n",
       "      <td>8</td>\n",
       "      <td>6000</td>\n",
       "    </tr>\n",
       "    <tr>\n",
       "      <th>T-shirt|top</th>\n",
       "      <td>9</td>\n",
       "      <td>6000</td>\n",
       "    </tr>\n",
       "    <tr>\n",
       "      <th>Trouser</th>\n",
       "      <td>10</td>\n",
       "      <td>6000</td>\n",
       "    </tr>\n",
       "  </tbody>\n",
       "</table>\n",
       "</div>"
      ],
      "text/plain": [
       "Frequency for IMAGEDATA_PF3IK4\n",
       "\n",
       "             Level  Frequency\n",
       "Ankle_boot       1       6000\n",
       "Bag              2       6000\n",
       "Coat             3       6000\n",
       "Dress            4       6000\n",
       "Pullover         5       6000\n",
       "Sandal           6       6000\n",
       "Shirt            7       6000\n",
       "Sneaker          8       6000\n",
       "T-shirt|top      9       6000\n",
       "Trouser         10       6000"
      ]
     },
     "execution_count": 12,
     "metadata": {},
     "output_type": "execute_result"
    }
   ],
   "source": [
    "train.label_freq"
   ]
  },
  {
   "cell_type": "code",
   "execution_count": 13,
   "metadata": {},
   "outputs": [],
   "source": [
    "# код для деления на 2 выборки\n",
    "train_data, val_data = two_way_split(train, seed=42)"
   ]
  },
  {
   "cell_type": "code",
   "execution_count": 14,
   "metadata": {},
   "outputs": [
    {
     "data": {
      "text/html": [
       "<div>\n",
       "<style scoped>\n",
       "    .dataframe tbody tr th:only-of-type {\n",
       "        vertical-align: middle;\n",
       "    }\n",
       "\n",
       "    .dataframe tbody tr th {\n",
       "        vertical-align: top;\n",
       "    }\n",
       "\n",
       "    .dataframe thead th {\n",
       "        text-align: right;\n",
       "    }\n",
       "</style>\n",
       "<table border=\"1\" class=\"dataframe\"><caption>Frequency for TRAIN_WZAINX</caption>\n",
       "  <thead>\n",
       "    <tr style=\"text-align: right;\">\n",
       "      <th title=\"\"></th>\n",
       "      <th title=\"Level\">Level</th>\n",
       "      <th title=\"Frequency\">Frequency</th>\n",
       "    </tr>\n",
       "  </thead>\n",
       "  <tbody>\n",
       "    <tr>\n",
       "      <th>Ankle_boot</th>\n",
       "      <td>1</td>\n",
       "      <td>4800</td>\n",
       "    </tr>\n",
       "    <tr>\n",
       "      <th>Bag</th>\n",
       "      <td>2</td>\n",
       "      <td>4800</td>\n",
       "    </tr>\n",
       "    <tr>\n",
       "      <th>Coat</th>\n",
       "      <td>3</td>\n",
       "      <td>4800</td>\n",
       "    </tr>\n",
       "    <tr>\n",
       "      <th>Dress</th>\n",
       "      <td>4</td>\n",
       "      <td>4800</td>\n",
       "    </tr>\n",
       "    <tr>\n",
       "      <th>Pullover</th>\n",
       "      <td>5</td>\n",
       "      <td>4800</td>\n",
       "    </tr>\n",
       "    <tr>\n",
       "      <th>Sandal</th>\n",
       "      <td>6</td>\n",
       "      <td>4800</td>\n",
       "    </tr>\n",
       "    <tr>\n",
       "      <th>Shirt</th>\n",
       "      <td>7</td>\n",
       "      <td>4800</td>\n",
       "    </tr>\n",
       "    <tr>\n",
       "      <th>Sneaker</th>\n",
       "      <td>8</td>\n",
       "      <td>4800</td>\n",
       "    </tr>\n",
       "    <tr>\n",
       "      <th>T-shirt|top</th>\n",
       "      <td>9</td>\n",
       "      <td>4800</td>\n",
       "    </tr>\n",
       "    <tr>\n",
       "      <th>Trouser</th>\n",
       "      <td>10</td>\n",
       "      <td>4800</td>\n",
       "    </tr>\n",
       "  </tbody>\n",
       "</table>\n",
       "</div>"
      ],
      "text/plain": [
       "Frequency for TRAIN_WZAINX\n",
       "\n",
       "             Level  Frequency\n",
       "Ankle_boot       1       4800\n",
       "Bag              2       4800\n",
       "Coat             3       4800\n",
       "Dress            4       4800\n",
       "Pullover         5       4800\n",
       "Sandal           6       4800\n",
       "Shirt            7       4800\n",
       "Sneaker          8       4800\n",
       "T-shirt|top      9       4800\n",
       "Trouser         10       4800"
      ]
     },
     "execution_count": 14,
     "metadata": {},
     "output_type": "execute_result"
    }
   ],
   "source": [
    "train_data.label_freq"
   ]
  },
  {
   "cell_type": "code",
   "execution_count": 15,
   "metadata": {},
   "outputs": [
    {
     "data": {
      "text/html": [
       "<div>\n",
       "<style scoped>\n",
       "    .dataframe tbody tr th:only-of-type {\n",
       "        vertical-align: middle;\n",
       "    }\n",
       "\n",
       "    .dataframe tbody tr th {\n",
       "        vertical-align: top;\n",
       "    }\n",
       "\n",
       "    .dataframe thead th {\n",
       "        text-align: right;\n",
       "    }\n",
       "</style>\n",
       "<table border=\"1\" class=\"dataframe\"><caption>Frequency for TEST_NQPHJ9</caption>\n",
       "  <thead>\n",
       "    <tr style=\"text-align: right;\">\n",
       "      <th title=\"\"></th>\n",
       "      <th title=\"Level\">Level</th>\n",
       "      <th title=\"Frequency\">Frequency</th>\n",
       "    </tr>\n",
       "  </thead>\n",
       "  <tbody>\n",
       "    <tr>\n",
       "      <th>Ankle_boot</th>\n",
       "      <td>1</td>\n",
       "      <td>1200</td>\n",
       "    </tr>\n",
       "    <tr>\n",
       "      <th>Bag</th>\n",
       "      <td>2</td>\n",
       "      <td>1200</td>\n",
       "    </tr>\n",
       "    <tr>\n",
       "      <th>Coat</th>\n",
       "      <td>3</td>\n",
       "      <td>1200</td>\n",
       "    </tr>\n",
       "    <tr>\n",
       "      <th>Dress</th>\n",
       "      <td>4</td>\n",
       "      <td>1200</td>\n",
       "    </tr>\n",
       "    <tr>\n",
       "      <th>Pullover</th>\n",
       "      <td>5</td>\n",
       "      <td>1200</td>\n",
       "    </tr>\n",
       "    <tr>\n",
       "      <th>Sandal</th>\n",
       "      <td>6</td>\n",
       "      <td>1200</td>\n",
       "    </tr>\n",
       "    <tr>\n",
       "      <th>Shirt</th>\n",
       "      <td>7</td>\n",
       "      <td>1200</td>\n",
       "    </tr>\n",
       "    <tr>\n",
       "      <th>Sneaker</th>\n",
       "      <td>8</td>\n",
       "      <td>1200</td>\n",
       "    </tr>\n",
       "    <tr>\n",
       "      <th>T-shirt|top</th>\n",
       "      <td>9</td>\n",
       "      <td>1200</td>\n",
       "    </tr>\n",
       "    <tr>\n",
       "      <th>Trouser</th>\n",
       "      <td>10</td>\n",
       "      <td>1200</td>\n",
       "    </tr>\n",
       "  </tbody>\n",
       "</table>\n",
       "</div>"
      ],
      "text/plain": [
       "Frequency for TEST_NQPHJ9\n",
       "\n",
       "             Level  Frequency\n",
       "Ankle_boot       1       1200\n",
       "Bag              2       1200\n",
       "Coat             3       1200\n",
       "Dress            4       1200\n",
       "Pullover         5       1200\n",
       "Sandal           6       1200\n",
       "Shirt            7       1200\n",
       "Sneaker          8       1200\n",
       "T-shirt|top      9       1200\n",
       "Trouser         10       1200"
      ]
     },
     "execution_count": 15,
     "metadata": {},
     "output_type": "execute_result"
    }
   ],
   "source": [
    "val_data.label_freq"
   ]
  },
  {
   "attachments": {
    "model.PNG": {
     "image/png": "[encoded data removed]"
    }
   },
   "cell_type": "markdown",
   "metadata": {},
   "source": [
    "**Задание 4: Построение модели**<br>\n",
    "Постройте модель, соответствующую изображенной на картинке, c помощью dlpy в Sequential-подходе.\n",
    "![model.PNG](attachment:model.PNG)"
   ]
  },
  {
   "cell_type": "code",
   "execution_count": 53,
   "metadata": {},
   "outputs": [
    {
     "name": "stdout",
     "output_type": "stream",
     "text": [
      "NOTE: Model compiled successfully.\n"
     ]
    }
   ],
   "source": [
    "# код для построения модели #\n",
    "from dlpy.sequential import Sequential\n",
    "from dlpy.layers import *\n",
    "from dlpy.model import *\n",
    "\n",
    "model = Sequential(s, [\n",
    "    InputLayer(1, 28, 28),\n",
    "    Conv2d(6, 5, 5), \n",
    "    Pooling(2,2),\n",
    "    Conv2d(16, 5, 5),\n",
    "    Pooling(2,2),\n",
    "    Dense(120),\n",
    "    Dense(84),\n",
    "    OutputLayer(n=10)\n",
    "])"
   ]
  },
  {
   "cell_type": "markdown",
   "metadata": {},
   "source": [
    "**Задание 5: Oбучение модели**<br>\n",
    "а) Обучите построенную модель. Гиперпараметры для обучения уже заданы, менять их не требуется. Не забудьте задать seed, чтобы  ваши результаты были воспроизводимыми. Полученная вами модель должна показать Miscalssification Rate < 15% на тестовой выборке."
   ]
  },
  {
   "cell_type": "code",
   "execution_count": 54,
   "metadata": {},
   "outputs": [],
   "source": [
    "from dlpy.model import Optimizer\n",
    "from dlpy.lr_scheduler import *"
   ]
  },
  {
   "cell_type": "code",
   "execution_count": 55,
   "metadata": {},
   "outputs": [
    {
     "name": "stdout",
     "output_type": "stream",
     "text": [
      "The following argument(s) learning_rate, gamma, step_size, power are overwritten by the according arguments specified in lr_scheduler.\n"
     ]
    }
   ],
   "source": [
    "# Variable for Number of Epochs\n",
    "nEpoch=50\n",
    "\n",
    "# Variable for Number of Threads\n",
    "nThread=4\n",
    "\n",
    "# Variable for Batch Size\n",
    "batchSize=128\n",
    "\n",
    "# Calculate miniBatch Size\n",
    "miniBatch=math.ceil(batchSize/nThread)\n",
    "\n",
    "# Define Learning Rate scheduler parameters\n",
    "lr_scheduler=ReduceLROnPlateau(conn=s, \n",
    "                               cool_down_iters=3, \n",
    "                               gamma=0.8, \n",
    "                               learning_rate=0.001, \n",
    "                               patience=5\n",
    "                               )\n",
    "\n",
    "# Define Momentum Solver parameters\n",
    "solver=MomentumSolver(lr_scheduler=lr_scheduler,\n",
    "                      clip_grad_max = 100, \n",
    "                      clip_grad_min = -100\n",
    "                      )                       \n",
    "\n",
    "# Define Solver optimizer parameter settings\n",
    "optimizer=Optimizer(seed=12345, \n",
    "                    algorithm=solver, \n",
    "                    mini_batch_size = miniBatch, \n",
    "                    log_level=2, \n",
    "                    max_epochs=nEpoch, \n",
    "                    reg_l2=0.0005\n",
    "                    )\n"
   ]
  },
  {
   "cell_type": "code",
   "execution_count": 56,
   "metadata": {},
   "outputs": [
    {
     "name": "stdout",
     "output_type": "stream",
     "text": [
      "NOTE: Inputs=_image_ is used\n",
      "NOTE: Training from scratch.\n",
      "NOTE:  Synchronous mode is enabled.\n",
      "NOTE:  The total number of parameters is 107786.\n",
      "NOTE:  The approximate memory cost is 139.00 MB.\n",
      "NOTE:  Loading weights cost       0.00 (s).\n",
      "NOTE:  Initializing each layer cost       0.07 (s).\n",
      "NOTE:  The total number of threads on each worker is 40.\n",
      "NOTE:  The total mini-batch size per thread on each worker is 32.\n",
      "NOTE:  The maximum mini-batch size across all workers for the synchronous mode is 1280.\n",
      "NOTE:  Target variable: _label_\n",
      "NOTE:  Number of levels for the target variable:     10\n",
      "NOTE:  Levels for the target variable:\n",
      "NOTE:  Level      0: Ankle_boot \n",
      "NOTE:  Level      1: Bag        \n",
      "NOTE:  Level      2: Coat       \n",
      "NOTE:  Level      3: Dress      \n",
      "NOTE:  Level      4: Pullover   \n",
      "NOTE:  Level      5: Sandal     \n",
      "NOTE:  Level      6: Shirt      \n",
      "NOTE:  Level      7: Sneaker    \n",
      "NOTE:  Level      8: T-shirt|top\n",
      "NOTE:  Level      9: Trouser    \n",
      "NOTE:  Number of input variables:     1\n",
      "NOTE:  Number of numeric input variables:      1\n",
      "NOTE:  Epoch Learning Rate        Loss  Fit Error  Validation Loss Validation Error   Time(s)\n",
      "NOTE:  0         0.001           3.538     0.6704            1.318           0.4788     2.39\n",
      "NOTE:  1         0.001          0.9978     0.3641           0.8122           0.2828     2.31\n",
      "NOTE:  2         0.001          0.7022     0.2508           0.6581           0.2394     2.30\n",
      "NOTE:  3         0.001          0.5944     0.2129           0.5908           0.2094     2.33\n",
      "NOTE:  4         0.001          0.5486     0.1981           0.5478           0.1937     2.33\n",
      "NOTE:  5         0.001          0.5151     0.1845           0.5199           0.1867     2.34\n",
      "NOTE:  6         0.001          0.4848     0.1752           0.4993           0.1786     2.34\n",
      "NOTE:  7         0.001          0.4591     0.1661           0.4832           0.1747     2.35\n",
      "NOTE:  8         0.001          0.4411     0.1611           0.4756           0.1704     2.29\n",
      "NOTE:  9         0.001            0.44       0.16           0.4601           0.1647     2.33\n",
      "NOTE:  10        0.001          0.4259     0.1542           0.4564           0.1668     2.30\n",
      "NOTE:  11        0.001          0.4138     0.1503           0.4437           0.1627     2.48\n",
      "NOTE:  12        0.001          0.4101       0.15           0.4379           0.1581     2.41\n",
      "NOTE:  13        0.001          0.4034     0.1455           0.4364           0.1585     2.44\n",
      "NOTE:  14        0.001          0.3994     0.1459           0.4305           0.1572     2.39\n",
      "NOTE:  15        0.001           0.383     0.1403           0.4217            0.151     2.36\n",
      "NOTE:  16        0.001          0.3817     0.1393           0.4172           0.1473     2.30\n",
      "NOTE:  17        0.001          0.3752     0.1381           0.4185           0.1497     2.31\n",
      "NOTE:  18        0.001          0.3732     0.1348            0.413           0.1491     2.30\n",
      "NOTE:  19        0.001          0.3681     0.1332           0.4123           0.1508     2.33\n",
      "NOTE:  20        0.001          0.3695     0.1356           0.3986           0.1449     2.33\n",
      "NOTE:  21        0.001          0.3584     0.1309           0.4027           0.1465     2.28\n",
      "NOTE:  22        0.001          0.3545     0.1299           0.3962           0.1416     2.38\n",
      "NOTE:  23        0.001          0.3569     0.1319           0.3952            0.143     2.34\n",
      "NOTE:  24        0.001          0.3502     0.1289           0.3939           0.1437     2.33\n",
      "NOTE:  25        0.001           0.344     0.1261           0.3878           0.1415     2.41\n",
      "NOTE:  26        0.001          0.3498     0.1298           0.3936           0.1415     2.47\n",
      "NOTE:  27        0.001          0.3441     0.1249           0.3845            0.139     2.53\n",
      "NOTE:  28        0.001          0.3385     0.1263           0.3826           0.1374     2.38\n",
      "NOTE:  29        0.001          0.3318     0.1196            0.379           0.1353     2.36\n",
      "NOTE:  30        0.001          0.3363     0.1236           0.3875           0.1407     2.33\n",
      "NOTE:  31        0.001          0.3335     0.1222           0.3772           0.1375     2.31\n",
      "NOTE:  32        0.001          0.3295     0.1201           0.3783           0.1334     2.34\n",
      "NOTE:  33        0.001          0.3297      0.122           0.3781           0.1348     2.34\n",
      "NOTE:  34        0.001          0.3235     0.1176           0.3702           0.1341     2.30\n",
      "NOTE:  35        0.001          0.3131     0.1134           0.3731           0.1342     2.35\n",
      "NOTE:  36        0.001          0.3161     0.1168           0.3725           0.1335     2.49\n",
      "NOTE:  37        0.001          0.3155     0.1153           0.3672           0.1313     2.39\n",
      "NOTE:  38        0.001           0.317     0.1149           0.3702            0.135     2.36\n",
      "NOTE:  39        0.001          0.3167     0.1172           0.3659           0.1323     2.37\n",
      "NOTE:  40        0.001          0.3076     0.1134           0.3661           0.1309     2.49\n",
      "NOTE:  41        0.001          0.3088     0.1123           0.3644           0.1284     2.35\n",
      "NOTE:  42        0.001          0.3108     0.1124           0.3759           0.1358     2.43\n",
      "NOTE:  43        0.001          0.3086     0.1139           0.3648           0.1299     2.40\n",
      "NOTE:  44        0.001          0.3059     0.1122            0.363           0.1278     2.30\n",
      "NOTE:  45        0.001          0.2987     0.1077           0.3647           0.1291     2.33\n",
      "NOTE:  46        0.001          0.2998     0.1096           0.3589           0.1283     2.32\n",
      "NOTE:  47        0.001          0.2968     0.1084            0.363           0.1299     2.31\n",
      "NOTE:  48        0.001          0.2967     0.1079           0.3622           0.1294     2.32\n",
      "NOTE:  49        0.001          0.3025     0.1117           0.3605           0.1304     2.38\n",
      "NOTE:  The optimization reached the maximum number of epochs.\n",
      "NOTE:  The total time is     117.95 (s).\n"
     ]
    }
   ],
   "source": [
    "# код для обучения модели\n",
    "train_history = model.fit(train_data, valid_table=val_data, optimizer=optimizer, seed=42)"
   ]
  },
  {
   "attachments": {
    "training.PNG": {
     "image/png": "[encoded data removed]"
    }
   },
   "cell_type": "markdown",
   "metadata": {},
   "source": [
    "b) Пользуясь значениями в history, постройте график, анологичный изображенному.\n",
    "![training.PNG](attachment:training.PNG)"
   ]
  },
  {
   "cell_type": "code",
   "execution_count": 57,
   "metadata": {},
   "outputs": [
    {
     "data": {
      "text/plain": [
       "Text(0, 0.5, 'Accuracy')"
      ]
     },
     "execution_count": 57,
     "metadata": {},
     "output_type": "execute_result"
    },
    {
     "data": {
      "image/png": "[encoded data removed]",
      "text/plain": [
       "<Figure size 432x288 with 1 Axes>"
      ]
     },
     "metadata": {
      "needs_background": "light"
     },
     "output_type": "display_data"
    }
   ],
   "source": [
    "history = train_history[\"OptIterHistory\"]\n",
    "ax = (1 - history[['FitError', 'ValidError']].rename(columns={'FitError':'train', 'ValidError':'validation'})).plot()\n",
    "ax.set_title('Model Accuracy')\n",
    "ax.set_xlabel('Epoch')\n",
    "ax.set_ylabel('Accuracy')\n",
    "#код для построения графика#"
   ]
  },
  {
   "cell_type": "code",
   "execution_count": null,
   "metadata": {},
   "outputs": [],
   "source": []
  },
  {
   "cell_type": "markdown",
   "metadata": {},
   "source": [
    "**Задание 6: Oценка качества модели**<br>"
   ]
  },
  {
   "cell_type": "markdown",
   "metadata": {},
   "source": [
    "а) Выведите матрицу ошибок на валидационной выборке для модели и ответьте на следующие вопросы:\n",
    "- Сколько изображений сумок было корректно классифицированно моделью?\n",
    "- Сколько пулловеров было классифицированно моделью как рубашки? Наоборот?\n",
    "- В классификации какого предмета одежды модель ошибалась чаще всего? А реже всего?"
   ]
  },
  {
   "cell_type": "code",
   "execution_count": 85,
   "metadata": {
    "scrolled": true
   },
   "outputs": [
    {
     "data": {
      "text/html": [
       "<div class=\"cas-results-key\"><b>&#167; Crosstab</b></div>\n",
       "<div class=\"cas-results-body\">\n",
       "<div>\n",
       "<style scoped>\n",
       "    .dataframe tbody tr th:only-of-type {\n",
       "        vertical-align: middle;\n",
       "    }\n",
       "\n",
       "    .dataframe tbody tr th {\n",
       "        vertical-align: top;\n",
       "    }\n",
       "\n",
       "    .dataframe thead th {\n",
       "        text-align: right;\n",
       "    }\n",
       "</style>\n",
       "<table border=\"1\" class=\"dataframe\">\n",
       "  <thead>\n",
       "    <tr style=\"text-align: right;\">\n",
       "      <th title=\"\"></th>\n",
       "      <th title=\"_label_\">_label_</th>\n",
       "      <th title=\"Ankle_boot\">Col1</th>\n",
       "      <th title=\"Bag\">Col2</th>\n",
       "      <th title=\"Coat\">Col3</th>\n",
       "      <th title=\"Dress\">Col4</th>\n",
       "      <th title=\"Pullover\">Col5</th>\n",
       "      <th title=\"Sandal\">Col6</th>\n",
       "      <th title=\"Shirt\">Col7</th>\n",
       "      <th title=\"Sneaker\">Col8</th>\n",
       "      <th title=\"T-shirt|top\">Col9</th>\n",
       "      <th title=\"Trouser\">Col10</th>\n",
       "    </tr>\n",
       "  </thead>\n",
       "  <tbody>\n",
       "    <tr>\n",
       "      <th>0</th>\n",
       "      <td>Ankle_boot</td>\n",
       "      <td>1124.0</td>\n",
       "      <td>0.0</td>\n",
       "      <td>0.0</td>\n",
       "      <td>0.0</td>\n",
       "      <td>0.0</td>\n",
       "      <td>22.0</td>\n",
       "      <td>0.0</td>\n",
       "      <td>54.0</td>\n",
       "      <td>0.0</td>\n",
       "      <td>0.0</td>\n",
       "    </tr>\n",
       "    <tr>\n",
       "      <th>1</th>\n",
       "      <td>Bag</td>\n",
       "      <td>0.0</td>\n",
       "      <td>1136.0</td>\n",
       "      <td>8.0</td>\n",
       "      <td>9.0</td>\n",
       "      <td>12.0</td>\n",
       "      <td>4.0</td>\n",
       "      <td>17.0</td>\n",
       "      <td>2.0</td>\n",
       "      <td>9.0</td>\n",
       "      <td>3.0</td>\n",
       "    </tr>\n",
       "    <tr>\n",
       "      <th>2</th>\n",
       "      <td>Coat</td>\n",
       "      <td>0.0</td>\n",
       "      <td>5.0</td>\n",
       "      <td>885.0</td>\n",
       "      <td>60.0</td>\n",
       "      <td>145.0</td>\n",
       "      <td>0.0</td>\n",
       "      <td>100.0</td>\n",
       "      <td>0.0</td>\n",
       "      <td>5.0</td>\n",
       "      <td>0.0</td>\n",
       "    </tr>\n",
       "    <tr>\n",
       "      <th>3</th>\n",
       "      <td>Dress</td>\n",
       "      <td>0.0</td>\n",
       "      <td>2.0</td>\n",
       "      <td>30.0</td>\n",
       "      <td>1063.0</td>\n",
       "      <td>14.0</td>\n",
       "      <td>0.0</td>\n",
       "      <td>29.0</td>\n",
       "      <td>0.0</td>\n",
       "      <td>50.0</td>\n",
       "      <td>12.0</td>\n",
       "    </tr>\n",
       "    <tr>\n",
       "      <th>4</th>\n",
       "      <td>Pullover</td>\n",
       "      <td>0.0</td>\n",
       "      <td>2.0</td>\n",
       "      <td>101.0</td>\n",
       "      <td>17.0</td>\n",
       "      <td>972.0</td>\n",
       "      <td>0.0</td>\n",
       "      <td>99.0</td>\n",
       "      <td>0.0</td>\n",
       "      <td>9.0</td>\n",
       "      <td>0.0</td>\n",
       "    </tr>\n",
       "    <tr>\n",
       "      <th>5</th>\n",
       "      <td>Sandal</td>\n",
       "      <td>16.0</td>\n",
       "      <td>5.0</td>\n",
       "      <td>0.0</td>\n",
       "      <td>0.0</td>\n",
       "      <td>1.0</td>\n",
       "      <td>1143.0</td>\n",
       "      <td>0.0</td>\n",
       "      <td>33.0</td>\n",
       "      <td>2.0</td>\n",
       "      <td>0.0</td>\n",
       "    </tr>\n",
       "    <tr>\n",
       "      <th>6</th>\n",
       "      <td>Shirt</td>\n",
       "      <td>0.0</td>\n",
       "      <td>14.0</td>\n",
       "      <td>59.0</td>\n",
       "      <td>42.0</td>\n",
       "      <td>116.0</td>\n",
       "      <td>0.0</td>\n",
       "      <td>759.0</td>\n",
       "      <td>0.0</td>\n",
       "      <td>206.0</td>\n",
       "      <td>4.0</td>\n",
       "    </tr>\n",
       "    <tr>\n",
       "      <th>7</th>\n",
       "      <td>Sneaker</td>\n",
       "      <td>16.0</td>\n",
       "      <td>3.0</td>\n",
       "      <td>0.0</td>\n",
       "      <td>0.0</td>\n",
       "      <td>0.0</td>\n",
       "      <td>34.0</td>\n",
       "      <td>0.0</td>\n",
       "      <td>1147.0</td>\n",
       "      <td>0.0</td>\n",
       "      <td>0.0</td>\n",
       "    </tr>\n",
       "    <tr>\n",
       "      <th>8</th>\n",
       "      <td>T-shirt|top</td>\n",
       "      <td>0.0</td>\n",
       "      <td>8.0</td>\n",
       "      <td>2.0</td>\n",
       "      <td>26.0</td>\n",
       "      <td>24.0</td>\n",
       "      <td>1.0</td>\n",
       "      <td>94.0</td>\n",
       "      <td>0.0</td>\n",
       "      <td>1041.0</td>\n",
       "      <td>4.0</td>\n",
       "    </tr>\n",
       "    <tr>\n",
       "      <th>9</th>\n",
       "      <td>Trouser</td>\n",
       "      <td>0.0</td>\n",
       "      <td>1.0</td>\n",
       "      <td>2.0</td>\n",
       "      <td>19.0</td>\n",
       "      <td>2.0</td>\n",
       "      <td>0.0</td>\n",
       "      <td>6.0</td>\n",
       "      <td>0.0</td>\n",
       "      <td>5.0</td>\n",
       "      <td>1165.0</td>\n",
       "    </tr>\n",
       "  </tbody>\n",
       "</table>\n",
       "</div>\n",
       "</div>\n",
       "<div class=\"cas-output-area\"></div>\n",
       "<p class=\"cas-results-performance\"><small><span class=\"cas-elapsed\">elapsed 0.00707s</span> &#183; <span class=\"cas-user\">user 0.0125s</span> &#183; <span class=\"cas-sys\">sys 0.00925s</span> &#183; <span class=\"cas-memory\">mem 2.56MB</span></small></p>"
      ],
      "text/plain": [
       "[Crosstab]\n",
       "\n",
       "        _label_    Col1    Col2   Col3    Col4   Col5    Col6   Col7    Col8  \\\n",
       " 0   Ankle_boot  1124.0     0.0    0.0     0.0    0.0    22.0    0.0    54.0   \n",
       " 1          Bag     0.0  1136.0    8.0     9.0   12.0     4.0   17.0     2.0   \n",
       " 2         Coat     0.0     5.0  885.0    60.0  145.0     0.0  100.0     0.0   \n",
       " 3        Dress     0.0     2.0   30.0  1063.0   14.0     0.0   29.0     0.0   \n",
       " 4     Pullover     0.0     2.0  101.0    17.0  972.0     0.0   99.0     0.0   \n",
       " 5       Sandal    16.0     5.0    0.0     0.0    1.0  1143.0    0.0    33.0   \n",
       " 6        Shirt     0.0    14.0   59.0    42.0  116.0     0.0  759.0     0.0   \n",
       " 7      Sneaker    16.0     3.0    0.0     0.0    0.0    34.0    0.0  1147.0   \n",
       " 8  T-shirt|top     0.0     8.0    2.0    26.0   24.0     1.0   94.0     0.0   \n",
       " 9      Trouser     0.0     1.0    2.0    19.0    2.0     0.0    6.0     0.0   \n",
       " \n",
       "      Col9   Col10  \n",
       " 0     0.0     0.0  \n",
       " 1     9.0     3.0  \n",
       " 2     5.0     0.0  \n",
       " 3    50.0    12.0  \n",
       " 4     9.0     0.0  \n",
       " 5     2.0     0.0  \n",
       " 6   206.0     4.0  \n",
       " 7     0.0     0.0  \n",
       " 8  1041.0     4.0  \n",
       " 9     5.0  1165.0  \n",
       "\n",
       "+ Elapsed: 0.00707s, user: 0.0125s, sys: 0.00925s, mem: 2.56mb"
      ]
     },
     "execution_count": 85,
     "metadata": {},
     "output_type": "execute_result"
    }
   ],
   "source": [
    "# код для вывода матрицы ошибок#\n",
    "model.evaluate(val_data, model_task='CLASSIFICATION')\n",
    "conf_mat = model.valid_conf_mat\n",
    "conf_mat"
   ]
  },
  {
   "cell_type": "markdown",
   "metadata": {},
   "source": [
    "Ваши ответы на вопросы:\n",
    "1) 1136\n",
    "2) Факт пуловер, предикт рубашка - 99; Факт рубашка, предикт пуловер - 116\n",
    "3) Реже всего - штаны, чаще всего - рубашка"
   ]
  },
  {
   "cell_type": "markdown",
   "metadata": {},
   "source": [
    "b) Проскорьте модель на тестовой выборке."
   ]
  },
  {
   "cell_type": "code",
   "execution_count": 75,
   "metadata": {},
   "outputs": [
    {
     "data": {
      "text/html": [
       "<div>\n",
       "<style scoped>\n",
       "    .dataframe tbody tr th:only-of-type {\n",
       "        vertical-align: middle;\n",
       "    }\n",
       "\n",
       "    .dataframe tbody tr th {\n",
       "        vertical-align: top;\n",
       "    }\n",
       "\n",
       "    .dataframe thead th {\n",
       "        text-align: right;\n",
       "    }\n",
       "</style>\n",
       "<table border=\"1\" class=\"dataframe\">\n",
       "  <thead>\n",
       "    <tr style=\"text-align: right;\">\n",
       "      <th title=\"\"></th>\n",
       "      <th title=\"Descr\">Descr</th>\n",
       "      <th title=\"Value\">Value</th>\n",
       "    </tr>\n",
       "  </thead>\n",
       "  <tbody>\n",
       "    <tr>\n",
       "      <th>0</th>\n",
       "      <td>Number of Observations Read</td>\n",
       "      <td>10000</td>\n",
       "    </tr>\n",
       "    <tr>\n",
       "      <th>1</th>\n",
       "      <td>Number of Observations Used</td>\n",
       "      <td>10000</td>\n",
       "    </tr>\n",
       "    <tr>\n",
       "      <th>2</th>\n",
       "      <td>Misclassification Error (%)</td>\n",
       "      <td>13.71</td>\n",
       "    </tr>\n",
       "    <tr>\n",
       "      <th>3</th>\n",
       "      <td>Loss Error</td>\n",
       "      <td>0.383665</td>\n",
       "    </tr>\n",
       "  </tbody>\n",
       "</table>\n",
       "</div>"
      ],
      "text/plain": [
       "                         Descr         Value\n",
       "0  Number of Observations Read         10000\n",
       "1  Number of Observations Used         10000\n",
       "2  Misclassification Error (%)         13.71\n",
       "3                   Loss Error      0.383665"
      ]
     },
     "execution_count": 75,
     "metadata": {},
     "output_type": "execute_result"
    }
   ],
   "source": [
    "# код для скоринга #\n",
    "res = model.evaluate(test)\n",
    "res['ScoreInfo']"
   ]
  },
  {
   "cell_type": "markdown",
   "metadata": {},
   "source": [
    "c) Выведите пример изображения, классифицированного верно, с помощью встроенной функции класса Model."
   ]
  },
  {
   "cell_type": "code",
   "execution_count": 76,
   "metadata": {},
   "outputs": [
    {
     "name": "stdout",
     "output_type": "stream",
     "text": [
      "NOTE: Table TEMP_PLOT contains compressed images.\n",
      "NOTE: Cloud Analytic Services dropped table TEMP_PLOT from caslib CASUSER(msu124).\n"
     ]
    },
    {
     "data": {
      "image/png": "[encoded data removed]",
      "text/plain": [
       "<Figure size 864x360 with 2 Axes>"
      ]
     },
     "metadata": {
      "needs_background": "light"
     },
     "output_type": "display_data"
    }
   ],
   "source": [
    "# код для вывода верно классифицированного изображения#\n",
    "model.plot_evaluate_res(img_type='C', n_images=1, randomize=False)"
   ]
  },
  {
   "cell_type": "markdown",
   "metadata": {},
   "source": [
    "d) Выведите пример изображения, классифицированного ошибочно, с помощью встроенной функции класса Model."
   ]
  },
  {
   "cell_type": "code",
   "execution_count": 77,
   "metadata": {},
   "outputs": [
    {
     "name": "stdout",
     "output_type": "stream",
     "text": [
      "NOTE: Table TEMP_PLOT contains compressed images.\n",
      "NOTE: Cloud Analytic Services dropped table TEMP_PLOT from caslib CASUSER(msu124).\n"
     ]
    },
    {
     "data": {
      "image/png": "[encoded data removed]",
      "text/plain": [
       "<Figure size 864x360 with 2 Axes>"
      ]
     },
     "metadata": {
      "needs_background": "light"
     },
     "output_type": "display_data"
    }
   ],
   "source": [
    "# код для вывода неверно классифицированного изображения#\n",
    "\n",
    "model.plot_evaluate_res(img_type='M', n_images=1, randomize=False)"
   ]
  },
  {
   "cell_type": "markdown",
   "metadata": {},
   "source": [
    "e) Сохраните полученную модель в SAS-таблицу, с помощью одного из методов класса Model."
   ]
  },
  {
   "cell_type": "code",
   "execution_count": 80,
   "metadata": {},
   "outputs": [
    {
     "name": "stdout",
     "output_type": "stream",
     "text": [
      "NOTE: Model table saved successfully.\n"
     ]
    }
   ],
   "source": [
    "# код для сохранения модели #\n",
    "model.save_to_table('/var/home/msu124/SAS-CV-2020-Homework1')"
   ]
  },
  {
   "cell_type": "markdown",
   "metadata": {},
   "source": [
    "**Дополнительное задание: Aугментации исходных данных**<br>\n",
    "Изучите документацию к CAS-action augmentImages. Попробуйте улучшить результат предыдущей модели, применив аугментации к исходным данным и, по желанию, другие техники для улучшения качества модели. Полученную модель проскорьте на тестовой выборке и сохраните в SAS-таблицу. Выведите метрики качества новой модели на тестовой выборке."
   ]
  },
  {
   "cell_type": "code",
   "execution_count": null,
   "metadata": {},
   "outputs": [],
   "source": [
    "s.augmentImages(table=train_data,"
   ]
  }
 ],
 "metadata": {
  "kernelspec": {
   "display_name": "Python 3",
   "language": "python",
   "name": "python3"
  },
  "language_info": {
   "codemirror_mode": {
    "name": "ipython",
    "version": 3
   },
   "file_extension": ".py",
   "mimetype": "text/x-python",
   "name": "python",
   "nbconvert_exporter": "python",
   "pygments_lexer": "ipython3",
   "version": "3.7.6"
  }
 },
 "nbformat": 4,
 "nbformat_minor": 4
}
