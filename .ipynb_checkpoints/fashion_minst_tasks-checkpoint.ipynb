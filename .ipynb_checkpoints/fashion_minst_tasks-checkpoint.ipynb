{
 "cells": [
  {
   "cell_type": "markdown",
   "metadata": {},
   "source": [
    "# Домашнее задание 1 - Классификация\n",
    "<br>\n",
    "\n",
    "Задание выполнил(а): *(впишите свои фамилию и имя)*\n",
    "<br>\n",
    "**Дедлайн:** 27.10.2020 23:59\n",
    "\n",
    "\n",
    "### О задании\n",
    "В этом домашнем задании вы научитесь работать с CAS при помощи библиотеки swat, познакомитесь c библиотекой dlpy, позволяющей использовать функциональность SAS для глубинного обучения из Python, а так же постороите с помощью этих библиотек модель для классификации изображений одежды.\n",
    "<br>\n",
    "Для выполнения заданий нужно самостоятельно написать или дополнить написанный код, а так же письменно ответить на вопросы (в зависимости от задания).\n",
    "\n",
    "**Домашнее задание построено следующим образом:**\n",
    "- Подключение к серверу CAS\n",
    "- Задание 1: Загрузка данных в CAS (1 балл)\n",
    "- Задание 2: Посмотрим на данные (1 балл)\n",
    "- Задание 3: Выделение валидационной выборки из train (1 балл)\n",
    "- Задание 4: Построение нейронной сети (3 балла)\n",
    "- Задание 5: Обучение сети (2 балла)\n",
    "- Задание 6: Оценка качества полученной модели (2 балла)\n",
    "- Дополнительное задание: Aугментации исходных данных (+2 балла)<br>\n",
    "\n",
    "Итого, полностью выполнив задание вы получите 10 баллов. Вы также можете выполнить дополнительное задание, чтобы получить еще 2 бонусных балла.\n",
    "\n",
    "### Формат сдачи\n",
    "\n",
    "После того, как вы выполните домашную работу, поместите jupyter notebook с выполнеными заданиями, а так же все SAS-таблицы с сохраненными моделями в закрытый git-репозиторий на GitHub. Предоставьте доступ к репозиторию аккаунтам GazizovMarat и Ala1s (добавив в свой реппозиторий в качестве коллабораторов).\n",
    "\n",
    "### Важно \n",
    "Для того, чтобы ваши результаты были воспроизводимыми для проверки, указывайте seed при вызове методов, где это возможно. Напоминания об этом так же содержатся в тексте заданий."
   ]
  },
  {
   "cell_type": "code",
   "execution_count": 1,
   "metadata": {},
   "outputs": [
    {
     "name": "stdout",
     "output_type": "stream",
     "text": [
      "Traceback (most recent call last):\r\n",
      "  File \"/bin/pip\", line 11, in <module>\r\n",
      "    load_entry_point('pip==21.0.1', 'console_scripts', 'pip')()\r\n",
      "  File \"/usr/lib/python2.7/site-packages/pkg_resources/__init__.py\", line 484, in load_entry_point\r\n",
      "    return get_distribution(dist).load_entry_point(group, name)\r\n",
      "  File \"/usr/lib/python2.7/site-packages/pkg_resources/__init__.py\", line 2714, in load_entry_point\r\n",
      "    return ep.load()\r\n",
      "  File \"/usr/lib/python2.7/site-packages/pkg_resources/__init__.py\", line 2332, in load\r\n",
      "    return self.resolve()\r\n",
      "  File \"/usr/lib/python2.7/site-packages/pkg_resources/__init__.py\", line 2338, in resolve\r\n",
      "    module = __import__(self.module_name, fromlist=['__name__'], level=0)\r\n",
      "  File \"/usr/lib/python2.7/site-packages/pip/_internal/cli/main.py\", line 60\r\n",
      "    sys.stderr.write(f\"ERROR: {exc}\")\r\n",
      "                                   ^\r\n",
      "SyntaxError: invalid syntax\r\n"
     ]
    }
   ],
   "source": [
    "!pip install sas-dlpy --user"
   ]
  },
  {
   "cell_type": "code",
   "execution_count": 2,
   "metadata": {},
   "outputs": [
    {
     "name": "stdout",
     "output_type": "stream",
     "text": [
      "Traceback (most recent call last):\r\n",
      "  File \"/bin/pip\", line 11, in <module>\r\n",
      "    load_entry_point('pip==21.0.1', 'console_scripts', 'pip')()\r\n",
      "  File \"/usr/lib/python2.7/site-packages/pkg_resources/__init__.py\", line 484, in load_entry_point\r\n",
      "    return get_distribution(dist).load_entry_point(group, name)\r\n",
      "  File \"/usr/lib/python2.7/site-packages/pkg_resources/__init__.py\", line 2714, in load_entry_point\r\n",
      "    return ep.load()\r\n",
      "  File \"/usr/lib/python2.7/site-packages/pkg_resources/__init__.py\", line 2332, in load\r\n",
      "    return self.resolve()\r\n",
      "  File \"/usr/lib/python2.7/site-packages/pkg_resources/__init__.py\", line 2338, in resolve\r\n",
      "    module = __import__(self.module_name, fromlist=['__name__'], level=0)\r\n",
      "  File \"/usr/lib/python2.7/site-packages/pip/_internal/cli/main.py\", line 60\r\n",
      "    sys.stderr.write(f\"ERROR: {exc}\")\r\n",
      "                                   ^\r\n",
      "SyntaxError: invalid syntax\r\n"
     ]
    }
   ],
   "source": [
    "!pip install opencv-python --user"
   ]
  },
  {
   "cell_type": "code",
   "execution_count": 1,
   "metadata": {},
   "outputs": [],
   "source": [
    "import os\n",
    "import numpy as np\n",
    "import cv2\n",
    "from tqdm import tqdm\n",
    "import matplotlib.pyplot as plt\n",
    "%matplotlib inline\n",
    "\n",
    "from swat import *\n",
    "from dlpy import Model, Sequential\n",
    "from dlpy.layers import *\n",
    "from dlpy.images import ImageTable\n",
    "from dlpy.splitting import two_way_split"
   ]
  },
  {
   "cell_type": "markdown",
   "metadata": {},
   "source": [
    "## Подключение к серверу CAS"
   ]
  },
  {
   "cell_type": "markdown",
   "metadata": {},
   "source": [
    "Подключитесь к серверу CAS под своим логином и паролем.<br>Загрузите следующие Action Sets: 'image','deepLearn'.<br>\n",
    "<br>\n",
    "Для выполнения задания обратитесь к документации по следующим ссылкам: <br>\n",
    "- https://sassoftware.github.io/python-swat/getting-started.html <br>"
   ]
  },
  {
   "cell_type": "code",
   "execution_count": 2,
   "metadata": {},
   "outputs": [
    {
     "name": "stdout",
     "output_type": "stream",
     "text": [
      "NOTE: Added action set 'image'.\n",
      "NOTE: Added action set 'deepLearn'.\n",
      "NOTE: Added action set 'datastep'.\n"
     ]
    },
    {
     "data": {
      "text/html": [
       "<div class=\"cas-results-key\"><b>&#167; actionset</b></div>\n",
       "<div class=\"cas-results-body\">\n",
       "<div>datastep</div>\n",
       "</div>\n",
       "<div class=\"cas-output-area\"></div>\n",
       "<p class=\"cas-results-performance\"><small><span class=\"cas-elapsed\">elapsed 0.000388s</span> &#183; <span class=\"cas-user\">user 0.0002s</span> &#183; <span class=\"cas-sys\">sys 0.000168s</span> &#183; <span class=\"cas-memory\">mem 0.221MB</span></small></p>"
      ],
      "text/plain": [
       "[actionset]\n",
       "\n",
       " 'datastep'\n",
       "\n",
       "+ Elapsed: 0.000388s, user: 0.0002s, sys: 0.000168s, mem: 0.221mb"
      ]
     },
     "execution_count": 2,
     "metadata": {},
     "output_type": "execute_result"
    }
   ],
   "source": [
    "# os.environ['CAS_CLIENT_SSL_CA_LIST'] = r\"/tmp/4fix/trustedcerts.pem\"\n",
    "\n",
    "# Создаем новую сессию CAS:\n",
    "\n",
    "s = CAS('tiger.cs.msu.ru', 5570, username='msu124', password='HilBert!$j')\n",
    "\n",
    "# Загружаем action sets:\n",
    "\n",
    "s.loadactionset('image')\n",
    "s.loadactionset('deepLearn')\n",
    "s.loadactionset('datastep')"
   ]
  },
  {
   "cell_type": "markdown",
   "metadata": {},
   "source": [
    "#### Загрузка данных\n",
    "Для работы с изображениями в SAS DLPy используются специализированные таблицы - ImageTable. Для загрузки набора данных, помимо сессии CAS и названия для новой таблицы, требуется указать путь к папке с набором данных сервере. \n",
    "При загрузке нужно указать путь к папке, устроенной следующим образом: <br>\n",
    "* shirt\n",
    "    - shirt_image0.png\n",
    "    - shirt_image1.png\n",
    "    - ...\n",
    "* pants\n",
    "    - pants_image0.png\n",
    "    - pants_image1.png\n",
    "    - ...\n",
    "* ... \n",
    "<br>\n",
    "То есть, папка должна состоять из подпапок, называющихся соответственно классам обьектов на изображении. В каждой из таких подпапок должны лежать все изобращения с обьектами соответствующего класса.<br>\n",
    "Папки train-images (обучающая выборка) и t10k-images (тестовая выборка) внутри папки data в этом репозитории устроены описанным выше образом. \n",
    "Также, данные fashion-MNIST можно скачать из следующего репозитория:<br> \n",
    "- https://github.com/zalandoresearch/fashion-mnist <br>\n",
    "\n",
    "**Задание 1: Загрузка данных в CAS**<br>\n",
    "Загрузите обучающие и тестовые данные в CAS, создав ImageTable (для каждой выборки отдельно)."
   ]
  },
  {
   "cell_type": "code",
   "execution_count": 3,
   "metadata": {},
   "outputs": [
    {
     "name": "stdout",
     "output_type": "stream",
     "text": [
      "t10k-images  train-images\r\n"
     ]
    }
   ],
   "source": [
    "! ls data"
   ]
  },
  {
   "cell_type": "code",
   "execution_count": 4,
   "metadata": {},
   "outputs": [],
   "source": [
    "# создайте ImageTable для обучающей выборки #\n",
    "path_train = \"/var/home/msu124/SAS-CV-2020-Homework1/data/train-images/\"\n",
    "train = ImageTable.load_files(s, path_train, casout=None, columns=None, caslib=None)"
   ]
  },
  {
   "cell_type": "code",
   "execution_count": 5,
   "metadata": {},
   "outputs": [],
   "source": [
    "# создайте ImageTable для тестовой выборки #\n",
    "path_test = \"/var/home/msu124/SAS-CV-2020-Homework1/data/t10k-images/\"\n",
    "test = ImageTable.load_files(s, path_test, casout=None, columns=None, caslib=None)"
   ]
  },
  {
   "cell_type": "markdown",
   "metadata": {},
   "source": [
    "**Задание 2: Исследование данных**<br>\n",
    "а) С помощью метода show выведите 16 случайных изображений из ImageTable в таблице размером 4x4 ячейки (для train и test отдельно)."
   ]
  },
  {
   "cell_type": "code",
   "execution_count": 6,
   "metadata": {
    "scrolled": true
   },
   "outputs": [
    {
     "data": {
      "image/png": "[encoded data removed]",
      "text/plain": [
       "<Figure size 576x432 with 16 Axes>"
      ]
     },
     "metadata": {},
     "output_type": "display_data"
    }
   ],
   "source": [
    "# выведите 16 изображений из обучающей выборки #\n",
    "train.show(nimages=16, ncol=8, randomize=False, figsize=(8,6), where=None, id=None)"
   ]
  },
  {
   "cell_type": "code",
   "execution_count": 7,
   "metadata": {},
   "outputs": [
    {
     "data": {
      "image/png": "[encoded data removed]",
      "text/plain": [
       "<Figure size 576x432 with 16 Axes>"
      ]
     },
     "metadata": {},
     "output_type": "display_data"
    }
   ],
   "source": [
    "# выведите 16 изображений из тестовой выборки #\n",
    "test.show(nimages=16, ncol=8, randomize=False, figsize=(8,6), where=None, id=None)"
   ]
  },
  {
   "cell_type": "markdown",
   "metadata": {},
   "source": [
    "b) Найдите метод класса ImageTable, позволяющий подсчитать статистику по метаданным таблицы (например, средние размеры или значения пикселей). Примените этот метод к таблицам, в которые вы загрузили наборы данных train и test."
   ]
  },
  {
   "cell_type": "code",
   "execution_count": 8,
   "metadata": {},
   "outputs": [
    {
     "data": {
      "text/plain": [
       "jpg                 60000\n",
       "minWidth               28\n",
       "maxWidth               28\n",
       "minHeight              28\n",
       "maxHeight              28\n",
       "meanWidth              28\n",
       "meanHeight             28\n",
       "mean1stChannel    72.9404\n",
       "min1stChannel           0\n",
       "max1stChannel         255\n",
       "mean2ndChannel          0\n",
       "min2ndChannel           0\n",
       "max2ndChannel           0\n",
       "mean3rdChannel          0\n",
       "min3rdChannel           0\n",
       "max3rdChannel           0\n",
       "dtype: object"
      ]
     },
     "execution_count": 8,
     "metadata": {},
     "output_type": "execute_result"
    }
   ],
   "source": [
    "# статистики по метаданным для train #\n",
    "train.image_summary"
   ]
  },
  {
   "cell_type": "code",
   "execution_count": 9,
   "metadata": {},
   "outputs": [
    {
     "data": {
      "text/plain": [
       "jpg                 10000\n",
       "minWidth               28\n",
       "maxWidth               28\n",
       "minHeight              28\n",
       "maxHeight              28\n",
       "meanWidth              28\n",
       "meanHeight             28\n",
       "mean1stChannel    73.1466\n",
       "min1stChannel           0\n",
       "max1stChannel         255\n",
       "mean2ndChannel          0\n",
       "min2ndChannel           0\n",
       "max2ndChannel           0\n",
       "mean3rdChannel          0\n",
       "min3rdChannel           0\n",
       "max3rdChannel           0\n",
       "dtype: object"
      ]
     },
     "execution_count": 9,
     "metadata": {},
     "output_type": "execute_result"
    }
   ],
   "source": [
    "# статистики по метаданным для test #\n",
    "test.image_summary"
   ]
  },
  {
   "cell_type": "markdown",
   "metadata": {},
   "source": [
    "**Задание 3: Выделение валидационной выборки из train**<br>\n",
    "- Перед тем, как выделить из train выборку для валидации модели, посмотрите на распределение классов (с помощью свойства ImageTable).\n",
    "- Выделите из таблицы train выборку в размере 15 процентов от исходного с помощью two_way_split. Убедитесь, что вы задали seed, для того, чтобы мы могли воспроизвести и проверить ваши результаты), а возвращаемые таблицы - типа ImageTable, как и исходная.\n",
    "- После выделения validate выборки, снова посмотрите на распреление классов на train и validate выборках, чтобы убедиться, что в обеих выборках присутстует равное количество примеров для каждого из классов."
   ]
  },
  {
   "cell_type": "code",
   "execution_count": 10,
   "metadata": {},
   "outputs": [
    {
     "data": {
      "text/html": [
       "<div>\n",
       "<style scoped>\n",
       "    .dataframe tbody tr th:only-of-type {\n",
       "        vertical-align: middle;\n",
       "    }\n",
       "\n",
       "    .dataframe tbody tr th {\n",
       "        vertical-align: top;\n",
       "    }\n",
       "\n",
       "    .dataframe thead th {\n",
       "        text-align: right;\n",
       "    }\n",
       "</style>\n",
       "<table border=\"1\" class=\"dataframe\"><caption>Frequency for IMAGEDATA_7Z3V8O</caption>\n",
       "  <thead>\n",
       "    <tr style=\"text-align: right;\">\n",
       "      <th title=\"\"></th>\n",
       "      <th title=\"Level\">Level</th>\n",
       "      <th title=\"Frequency\">Frequency</th>\n",
       "    </tr>\n",
       "  </thead>\n",
       "  <tbody>\n",
       "    <tr>\n",
       "      <th>Ankle_boot</th>\n",
       "      <td>1</td>\n",
       "      <td>6000</td>\n",
       "    </tr>\n",
       "    <tr>\n",
       "      <th>Bag</th>\n",
       "      <td>2</td>\n",
       "      <td>6000</td>\n",
       "    </tr>\n",
       "    <tr>\n",
       "      <th>Coat</th>\n",
       "      <td>3</td>\n",
       "      <td>6000</td>\n",
       "    </tr>\n",
       "    <tr>\n",
       "      <th>Dress</th>\n",
       "      <td>4</td>\n",
       "      <td>6000</td>\n",
       "    </tr>\n",
       "    <tr>\n",
       "      <th>Pullover</th>\n",
       "      <td>5</td>\n",
       "      <td>6000</td>\n",
       "    </tr>\n",
       "    <tr>\n",
       "      <th>Sandal</th>\n",
       "      <td>6</td>\n",
       "      <td>6000</td>\n",
       "    </tr>\n",
       "    <tr>\n",
       "      <th>Shirt</th>\n",
       "      <td>7</td>\n",
       "      <td>6000</td>\n",
       "    </tr>\n",
       "    <tr>\n",
       "      <th>Sneaker</th>\n",
       "      <td>8</td>\n",
       "      <td>6000</td>\n",
       "    </tr>\n",
       "    <tr>\n",
       "      <th>T-shirt|top</th>\n",
       "      <td>9</td>\n",
       "      <td>6000</td>\n",
       "    </tr>\n",
       "    <tr>\n",
       "      <th>Trouser</th>\n",
       "      <td>10</td>\n",
       "      <td>6000</td>\n",
       "    </tr>\n",
       "  </tbody>\n",
       "</table>\n",
       "</div>"
      ],
      "text/plain": [
       "Frequency for IMAGEDATA_7Z3V8O\n",
       "\n",
       "             Level  Frequency\n",
       "Ankle_boot       1       6000\n",
       "Bag              2       6000\n",
       "Coat             3       6000\n",
       "Dress            4       6000\n",
       "Pullover         5       6000\n",
       "Sandal           6       6000\n",
       "Shirt            7       6000\n",
       "Sneaker          8       6000\n",
       "T-shirt|top      9       6000\n",
       "Trouser         10       6000"
      ]
     },
     "execution_count": 10,
     "metadata": {},
     "output_type": "execute_result"
    }
   ],
   "source": [
    "train.label_freq"
   ]
  },
  {
   "cell_type": "code",
   "execution_count": 11,
   "metadata": {},
   "outputs": [],
   "source": [
    "# код для деления на 2 выборки\n",
    "train_data, val_data = two_way_split(train, seed=42)"
   ]
  },
  {
   "cell_type": "code",
   "execution_count": 12,
   "metadata": {},
   "outputs": [
    {
     "data": {
      "text/html": [
       "<div>\n",
       "<style scoped>\n",
       "    .dataframe tbody tr th:only-of-type {\n",
       "        vertical-align: middle;\n",
       "    }\n",
       "\n",
       "    .dataframe tbody tr th {\n",
       "        vertical-align: top;\n",
       "    }\n",
       "\n",
       "    .dataframe thead th {\n",
       "        text-align: right;\n",
       "    }\n",
       "</style>\n",
       "<table border=\"1\" class=\"dataframe\"><caption>Frequency for TRAIN_HO4SEJ</caption>\n",
       "  <thead>\n",
       "    <tr style=\"text-align: right;\">\n",
       "      <th title=\"\"></th>\n",
       "      <th title=\"Level\">Level</th>\n",
       "      <th title=\"Frequency\">Frequency</th>\n",
       "    </tr>\n",
       "  </thead>\n",
       "  <tbody>\n",
       "    <tr>\n",
       "      <th>Ankle_boot</th>\n",
       "      <td>1</td>\n",
       "      <td>4800</td>\n",
       "    </tr>\n",
       "    <tr>\n",
       "      <th>Bag</th>\n",
       "      <td>2</td>\n",
       "      <td>4800</td>\n",
       "    </tr>\n",
       "    <tr>\n",
       "      <th>Coat</th>\n",
       "      <td>3</td>\n",
       "      <td>4800</td>\n",
       "    </tr>\n",
       "    <tr>\n",
       "      <th>Dress</th>\n",
       "      <td>4</td>\n",
       "      <td>4800</td>\n",
       "    </tr>\n",
       "    <tr>\n",
       "      <th>Pullover</th>\n",
       "      <td>5</td>\n",
       "      <td>4800</td>\n",
       "    </tr>\n",
       "    <tr>\n",
       "      <th>Sandal</th>\n",
       "      <td>6</td>\n",
       "      <td>4800</td>\n",
       "    </tr>\n",
       "    <tr>\n",
       "      <th>Shirt</th>\n",
       "      <td>7</td>\n",
       "      <td>4800</td>\n",
       "    </tr>\n",
       "    <tr>\n",
       "      <th>Sneaker</th>\n",
       "      <td>8</td>\n",
       "      <td>4800</td>\n",
       "    </tr>\n",
       "    <tr>\n",
       "      <th>T-shirt|top</th>\n",
       "      <td>9</td>\n",
       "      <td>4800</td>\n",
       "    </tr>\n",
       "    <tr>\n",
       "      <th>Trouser</th>\n",
       "      <td>10</td>\n",
       "      <td>4800</td>\n",
       "    </tr>\n",
       "  </tbody>\n",
       "</table>\n",
       "</div>"
      ],
      "text/plain": [
       "Frequency for TRAIN_HO4SEJ\n",
       "\n",
       "             Level  Frequency\n",
       "Ankle_boot       1       4800\n",
       "Bag              2       4800\n",
       "Coat             3       4800\n",
       "Dress            4       4800\n",
       "Pullover         5       4800\n",
       "Sandal           6       4800\n",
       "Shirt            7       4800\n",
       "Sneaker          8       4800\n",
       "T-shirt|top      9       4800\n",
       "Trouser         10       4800"
      ]
     },
     "execution_count": 12,
     "metadata": {},
     "output_type": "execute_result"
    }
   ],
   "source": [
    "train_data.label_freq"
   ]
  },
  {
   "cell_type": "code",
   "execution_count": 13,
   "metadata": {},
   "outputs": [
    {
     "data": {
      "text/html": [
       "<div>\n",
       "<style scoped>\n",
       "    .dataframe tbody tr th:only-of-type {\n",
       "        vertical-align: middle;\n",
       "    }\n",
       "\n",
       "    .dataframe tbody tr th {\n",
       "        vertical-align: top;\n",
       "    }\n",
       "\n",
       "    .dataframe thead th {\n",
       "        text-align: right;\n",
       "    }\n",
       "</style>\n",
       "<table border=\"1\" class=\"dataframe\"><caption>Frequency for TEST_81XLPQ</caption>\n",
       "  <thead>\n",
       "    <tr style=\"text-align: right;\">\n",
       "      <th title=\"\"></th>\n",
       "      <th title=\"Level\">Level</th>\n",
       "      <th title=\"Frequency\">Frequency</th>\n",
       "    </tr>\n",
       "  </thead>\n",
       "  <tbody>\n",
       "    <tr>\n",
       "      <th>Ankle_boot</th>\n",
       "      <td>1</td>\n",
       "      <td>1200</td>\n",
       "    </tr>\n",
       "    <tr>\n",
       "      <th>Bag</th>\n",
       "      <td>2</td>\n",
       "      <td>1200</td>\n",
       "    </tr>\n",
       "    <tr>\n",
       "      <th>Coat</th>\n",
       "      <td>3</td>\n",
       "      <td>1200</td>\n",
       "    </tr>\n",
       "    <tr>\n",
       "      <th>Dress</th>\n",
       "      <td>4</td>\n",
       "      <td>1200</td>\n",
       "    </tr>\n",
       "    <tr>\n",
       "      <th>Pullover</th>\n",
       "      <td>5</td>\n",
       "      <td>1200</td>\n",
       "    </tr>\n",
       "    <tr>\n",
       "      <th>Sandal</th>\n",
       "      <td>6</td>\n",
       "      <td>1200</td>\n",
       "    </tr>\n",
       "    <tr>\n",
       "      <th>Shirt</th>\n",
       "      <td>7</td>\n",
       "      <td>1200</td>\n",
       "    </tr>\n",
       "    <tr>\n",
       "      <th>Sneaker</th>\n",
       "      <td>8</td>\n",
       "      <td>1200</td>\n",
       "    </tr>\n",
       "    <tr>\n",
       "      <th>T-shirt|top</th>\n",
       "      <td>9</td>\n",
       "      <td>1200</td>\n",
       "    </tr>\n",
       "    <tr>\n",
       "      <th>Trouser</th>\n",
       "      <td>10</td>\n",
       "      <td>1200</td>\n",
       "    </tr>\n",
       "  </tbody>\n",
       "</table>\n",
       "</div>"
      ],
      "text/plain": [
       "Frequency for TEST_81XLPQ\n",
       "\n",
       "             Level  Frequency\n",
       "Ankle_boot       1       1200\n",
       "Bag              2       1200\n",
       "Coat             3       1200\n",
       "Dress            4       1200\n",
       "Pullover         5       1200\n",
       "Sandal           6       1200\n",
       "Shirt            7       1200\n",
       "Sneaker          8       1200\n",
       "T-shirt|top      9       1200\n",
       "Trouser         10       1200"
      ]
     },
     "execution_count": 13,
     "metadata": {},
     "output_type": "execute_result"
    }
   ],
   "source": [
    "val_data.label_freq"
   ]
  },
  {
   "attachments": {
    "model.PNG": {
     "image/png": "[encoded data removed]"
    }
   },
   "cell_type": "markdown",
   "metadata": {},
   "source": [
    "**Задание 4: Построение модели**<br>\n",
    "Постройте модель, соответствующую изображенной на картинке, c помощью dlpy в Sequential-подходе.\n",
    "![model.PNG](attachment:model.PNG)"
   ]
  },
  {
   "cell_type": "code",
   "execution_count": 21,
   "metadata": {},
   "outputs": [
    {
     "name": "stdout",
     "output_type": "stream",
     "text": [
      "NOTE: Model compiled successfully.\n"
     ]
    }
   ],
   "source": [
    "# код для построения модели #\n",
    "from dlpy.sequential import Sequential\n",
    "from dlpy.layers import *\n",
    "\n",
    "model = Sequential(s, [\n",
    "    InputLayer(1, 28, 28),\n",
    "    Conv2d(6, 5, 5, padding=2), \n",
    "    Pooling(2,2),\n",
    "    Conv2d(16, 5, 5, padding=2),\n",
    "    Pooling(2,2),\n",
    "    Dense(120),\n",
    "    Dense(84),\n",
    "    OutputLayer()\n",
    "])"
   ]
  },
  {
   "cell_type": "code",
   "execution_count": 22,
   "metadata": {},
   "outputs": [
    {
     "ename": "ExecutableNotFound",
     "evalue": "failed to execute ['dot', '-Kdot', '-Tsvg'], make sure the Graphviz executables are on your systems' PATH",
     "output_type": "error",
     "traceback": [
      "\u001b[0;31m---------------------------------------------------------------------------\u001b[0m",
      "\u001b[0;31mFileNotFoundError\u001b[0m                         Traceback (most recent call last)",
      "\u001b[0;32m/root/anaconda3/lib/python3.7/site-packages/graphviz/backend.py\u001b[0m in \u001b[0;36mrun\u001b[0;34m(cmd, input, capture_output, check, encoding, quiet, **kwargs)\u001b[0m\n\u001b[1;32m    163\u001b[0m     \u001b[0;32mtry\u001b[0m\u001b[0;34m:\u001b[0m\u001b[0;34m\u001b[0m\u001b[0;34m\u001b[0m\u001b[0m\n\u001b[0;32m--> 164\u001b[0;31m         \u001b[0mproc\u001b[0m \u001b[0;34m=\u001b[0m \u001b[0msubprocess\u001b[0m\u001b[0;34m.\u001b[0m\u001b[0mPopen\u001b[0m\u001b[0;34m(\u001b[0m\u001b[0mcmd\u001b[0m\u001b[0;34m,\u001b[0m \u001b[0mstartupinfo\u001b[0m\u001b[0;34m=\u001b[0m\u001b[0mget_startupinfo\u001b[0m\u001b[0;34m(\u001b[0m\u001b[0;34m)\u001b[0m\u001b[0;34m,\u001b[0m \u001b[0;34m**\u001b[0m\u001b[0mkwargs\u001b[0m\u001b[0;34m)\u001b[0m\u001b[0;34m\u001b[0m\u001b[0;34m\u001b[0m\u001b[0m\n\u001b[0m\u001b[1;32m    165\u001b[0m     \u001b[0;32mexcept\u001b[0m \u001b[0mOSError\u001b[0m \u001b[0;32mas\u001b[0m \u001b[0me\u001b[0m\u001b[0;34m:\u001b[0m\u001b[0;34m\u001b[0m\u001b[0;34m\u001b[0m\u001b[0m\n",
      "\u001b[0;32m/root/anaconda3/lib/python3.7/subprocess.py\u001b[0m in \u001b[0;36m__init__\u001b[0;34m(self, args, bufsize, executable, stdin, stdout, stderr, preexec_fn, close_fds, shell, cwd, env, universal_newlines, startupinfo, creationflags, restore_signals, start_new_session, pass_fds, encoding, errors, text)\u001b[0m\n\u001b[1;32m    799\u001b[0m                                 \u001b[0merrread\u001b[0m\u001b[0;34m,\u001b[0m \u001b[0merrwrite\u001b[0m\u001b[0;34m,\u001b[0m\u001b[0;34m\u001b[0m\u001b[0;34m\u001b[0m\u001b[0m\n\u001b[0;32m--> 800\u001b[0;31m                                 restore_signals, start_new_session)\n\u001b[0m\u001b[1;32m    801\u001b[0m         \u001b[0;32mexcept\u001b[0m\u001b[0;34m:\u001b[0m\u001b[0;34m\u001b[0m\u001b[0;34m\u001b[0m\u001b[0m\n",
      "\u001b[0;32m/root/anaconda3/lib/python3.7/subprocess.py\u001b[0m in \u001b[0;36m_execute_child\u001b[0;34m(self, args, executable, preexec_fn, close_fds, pass_fds, cwd, env, startupinfo, creationflags, shell, p2cread, p2cwrite, c2pread, c2pwrite, errread, errwrite, restore_signals, start_new_session)\u001b[0m\n\u001b[1;32m   1550\u001b[0m                             \u001b[0merr_msg\u001b[0m \u001b[0;34m+=\u001b[0m \u001b[0;34m': '\u001b[0m \u001b[0;34m+\u001b[0m \u001b[0mrepr\u001b[0m\u001b[0;34m(\u001b[0m\u001b[0merr_filename\u001b[0m\u001b[0;34m)\u001b[0m\u001b[0;34m\u001b[0m\u001b[0;34m\u001b[0m\u001b[0m\n\u001b[0;32m-> 1551\u001b[0;31m                     \u001b[0;32mraise\u001b[0m \u001b[0mchild_exception_type\u001b[0m\u001b[0;34m(\u001b[0m\u001b[0merrno_num\u001b[0m\u001b[0;34m,\u001b[0m \u001b[0merr_msg\u001b[0m\u001b[0;34m,\u001b[0m \u001b[0merr_filename\u001b[0m\u001b[0;34m)\u001b[0m\u001b[0;34m\u001b[0m\u001b[0;34m\u001b[0m\u001b[0m\n\u001b[0m\u001b[1;32m   1552\u001b[0m                 \u001b[0;32mraise\u001b[0m \u001b[0mchild_exception_type\u001b[0m\u001b[0;34m(\u001b[0m\u001b[0merr_msg\u001b[0m\u001b[0;34m)\u001b[0m\u001b[0;34m\u001b[0m\u001b[0;34m\u001b[0m\u001b[0m\n",
      "\u001b[0;31mFileNotFoundError\u001b[0m: [Errno 2] No such file or directory: 'dot': 'dot'",
      "\nDuring handling of the above exception, another exception occurred:\n",
      "\u001b[0;31mExecutableNotFound\u001b[0m                        Traceback (most recent call last)",
      "\u001b[0;32m/root/anaconda3/lib/python3.7/site-packages/IPython/core/formatters.py\u001b[0m in \u001b[0;36m__call__\u001b[0;34m(self, obj)\u001b[0m\n\u001b[1;32m    343\u001b[0m             \u001b[0mmethod\u001b[0m \u001b[0;34m=\u001b[0m \u001b[0mget_real_method\u001b[0m\u001b[0;34m(\u001b[0m\u001b[0mobj\u001b[0m\u001b[0;34m,\u001b[0m \u001b[0mself\u001b[0m\u001b[0;34m.\u001b[0m\u001b[0mprint_method\u001b[0m\u001b[0;34m)\u001b[0m\u001b[0;34m\u001b[0m\u001b[0;34m\u001b[0m\u001b[0m\n\u001b[1;32m    344\u001b[0m             \u001b[0;32mif\u001b[0m \u001b[0mmethod\u001b[0m \u001b[0;32mis\u001b[0m \u001b[0;32mnot\u001b[0m \u001b[0;32mNone\u001b[0m\u001b[0;34m:\u001b[0m\u001b[0;34m\u001b[0m\u001b[0;34m\u001b[0m\u001b[0m\n\u001b[0;32m--> 345\u001b[0;31m                 \u001b[0;32mreturn\u001b[0m \u001b[0mmethod\u001b[0m\u001b[0;34m(\u001b[0m\u001b[0;34m)\u001b[0m\u001b[0;34m\u001b[0m\u001b[0;34m\u001b[0m\u001b[0m\n\u001b[0m\u001b[1;32m    346\u001b[0m             \u001b[0;32mreturn\u001b[0m \u001b[0;32mNone\u001b[0m\u001b[0;34m\u001b[0m\u001b[0;34m\u001b[0m\u001b[0m\n\u001b[1;32m    347\u001b[0m         \u001b[0;32melse\u001b[0m\u001b[0;34m:\u001b[0m\u001b[0;34m\u001b[0m\u001b[0;34m\u001b[0m\u001b[0m\n",
      "\u001b[0;32m/root/anaconda3/lib/python3.7/site-packages/dlpy/network.py\u001b[0m in \u001b[0;36m_repr_svg_\u001b[0;34m(self)\u001b[0m\n\u001b[1;32m    765\u001b[0m \u001b[0;34m\u001b[0m\u001b[0m\n\u001b[1;32m    766\u001b[0m     \u001b[0;32mdef\u001b[0m \u001b[0m_repr_svg_\u001b[0m\u001b[0;34m(\u001b[0m\u001b[0mself\u001b[0m\u001b[0;34m)\u001b[0m\u001b[0;34m:\u001b[0m\u001b[0;34m\u001b[0m\u001b[0;34m\u001b[0m\u001b[0m\n\u001b[0;32m--> 767\u001b[0;31m         \u001b[0;32mreturn\u001b[0m \u001b[0mself\u001b[0m\u001b[0;34m.\u001b[0m\u001b[0mplot_network\u001b[0m\u001b[0;34m(\u001b[0m\u001b[0;34m)\u001b[0m\u001b[0;34m.\u001b[0m\u001b[0m_repr_svg_\u001b[0m\u001b[0;34m(\u001b[0m\u001b[0;34m)\u001b[0m\u001b[0;34m\u001b[0m\u001b[0;34m\u001b[0m\u001b[0m\n\u001b[0m\u001b[1;32m    768\u001b[0m \u001b[0;34m\u001b[0m\u001b[0m\n\u001b[1;32m    769\u001b[0m     \u001b[0;32mdef\u001b[0m \u001b[0mset_weights\u001b[0m\u001b[0;34m(\u001b[0m\u001b[0mself\u001b[0m\u001b[0;34m,\u001b[0m \u001b[0mweight_tbl\u001b[0m\u001b[0;34m)\u001b[0m\u001b[0;34m:\u001b[0m\u001b[0;34m\u001b[0m\u001b[0;34m\u001b[0m\u001b[0m\n",
      "\u001b[0;32m/root/anaconda3/lib/python3.7/site-packages/graphviz/files.py\u001b[0m in \u001b[0;36m_repr_svg_\u001b[0;34m(self)\u001b[0m\n\u001b[1;32m    142\u001b[0m \u001b[0;34m\u001b[0m\u001b[0m\n\u001b[1;32m    143\u001b[0m     \u001b[0;32mdef\u001b[0m \u001b[0m_repr_svg_\u001b[0m\u001b[0;34m(\u001b[0m\u001b[0mself\u001b[0m\u001b[0;34m)\u001b[0m\u001b[0;34m:\u001b[0m\u001b[0;34m\u001b[0m\u001b[0;34m\u001b[0m\u001b[0m\n\u001b[0;32m--> 144\u001b[0;31m         \u001b[0;32mreturn\u001b[0m \u001b[0mself\u001b[0m\u001b[0;34m.\u001b[0m\u001b[0mpipe\u001b[0m\u001b[0;34m(\u001b[0m\u001b[0mformat\u001b[0m\u001b[0;34m=\u001b[0m\u001b[0;34m'svg'\u001b[0m\u001b[0;34m)\u001b[0m\u001b[0;34m.\u001b[0m\u001b[0mdecode\u001b[0m\u001b[0;34m(\u001b[0m\u001b[0mself\u001b[0m\u001b[0;34m.\u001b[0m\u001b[0m_encoding\u001b[0m\u001b[0;34m)\u001b[0m\u001b[0;34m\u001b[0m\u001b[0;34m\u001b[0m\u001b[0m\n\u001b[0m\u001b[1;32m    145\u001b[0m \u001b[0;34m\u001b[0m\u001b[0m\n\u001b[1;32m    146\u001b[0m     \u001b[0;32mdef\u001b[0m \u001b[0mpipe\u001b[0m\u001b[0;34m(\u001b[0m\u001b[0mself\u001b[0m\u001b[0;34m,\u001b[0m \u001b[0mformat\u001b[0m\u001b[0;34m=\u001b[0m\u001b[0;32mNone\u001b[0m\u001b[0;34m,\u001b[0m \u001b[0mrenderer\u001b[0m\u001b[0;34m=\u001b[0m\u001b[0;32mNone\u001b[0m\u001b[0;34m,\u001b[0m \u001b[0mformatter\u001b[0m\u001b[0;34m=\u001b[0m\u001b[0;32mNone\u001b[0m\u001b[0;34m,\u001b[0m \u001b[0mquiet\u001b[0m\u001b[0;34m=\u001b[0m\u001b[0;32mFalse\u001b[0m\u001b[0;34m)\u001b[0m\u001b[0;34m:\u001b[0m\u001b[0;34m\u001b[0m\u001b[0;34m\u001b[0m\u001b[0m\n",
      "\u001b[0;32m/root/anaconda3/lib/python3.7/site-packages/graphviz/files.py\u001b[0m in \u001b[0;36mpipe\u001b[0;34m(self, format, renderer, formatter, quiet)\u001b[0m\n\u001b[1;32m    169\u001b[0m         out = backend.pipe(self._engine, format, data,\n\u001b[1;32m    170\u001b[0m                            \u001b[0mrenderer\u001b[0m\u001b[0;34m=\u001b[0m\u001b[0mrenderer\u001b[0m\u001b[0;34m,\u001b[0m \u001b[0mformatter\u001b[0m\u001b[0;34m=\u001b[0m\u001b[0mformatter\u001b[0m\u001b[0;34m,\u001b[0m\u001b[0;34m\u001b[0m\u001b[0;34m\u001b[0m\u001b[0m\n\u001b[0;32m--> 171\u001b[0;31m                            quiet=quiet)\n\u001b[0m\u001b[1;32m    172\u001b[0m \u001b[0;34m\u001b[0m\u001b[0m\n\u001b[1;32m    173\u001b[0m         \u001b[0;32mreturn\u001b[0m \u001b[0mout\u001b[0m\u001b[0;34m\u001b[0m\u001b[0;34m\u001b[0m\u001b[0m\n",
      "\u001b[0;32m/root/anaconda3/lib/python3.7/site-packages/graphviz/backend.py\u001b[0m in \u001b[0;36mpipe\u001b[0;34m(engine, format, data, renderer, formatter, quiet)\u001b[0m\n\u001b[1;32m    246\u001b[0m     \"\"\"\n\u001b[1;32m    247\u001b[0m     \u001b[0mcmd\u001b[0m\u001b[0;34m,\u001b[0m \u001b[0m_\u001b[0m \u001b[0;34m=\u001b[0m \u001b[0mcommand\u001b[0m\u001b[0;34m(\u001b[0m\u001b[0mengine\u001b[0m\u001b[0;34m,\u001b[0m \u001b[0mformat\u001b[0m\u001b[0;34m,\u001b[0m \u001b[0;32mNone\u001b[0m\u001b[0;34m,\u001b[0m \u001b[0mrenderer\u001b[0m\u001b[0;34m,\u001b[0m \u001b[0mformatter\u001b[0m\u001b[0;34m)\u001b[0m\u001b[0;34m\u001b[0m\u001b[0;34m\u001b[0m\u001b[0m\n\u001b[0;32m--> 248\u001b[0;31m     \u001b[0mout\u001b[0m\u001b[0;34m,\u001b[0m \u001b[0m_\u001b[0m \u001b[0;34m=\u001b[0m \u001b[0mrun\u001b[0m\u001b[0;34m(\u001b[0m\u001b[0mcmd\u001b[0m\u001b[0;34m,\u001b[0m \u001b[0minput\u001b[0m\u001b[0;34m=\u001b[0m\u001b[0mdata\u001b[0m\u001b[0;34m,\u001b[0m \u001b[0mcapture_output\u001b[0m\u001b[0;34m=\u001b[0m\u001b[0;32mTrue\u001b[0m\u001b[0;34m,\u001b[0m \u001b[0mcheck\u001b[0m\u001b[0;34m=\u001b[0m\u001b[0;32mTrue\u001b[0m\u001b[0;34m,\u001b[0m \u001b[0mquiet\u001b[0m\u001b[0;34m=\u001b[0m\u001b[0mquiet\u001b[0m\u001b[0;34m)\u001b[0m\u001b[0;34m\u001b[0m\u001b[0;34m\u001b[0m\u001b[0m\n\u001b[0m\u001b[1;32m    249\u001b[0m     \u001b[0;32mreturn\u001b[0m \u001b[0mout\u001b[0m\u001b[0;34m\u001b[0m\u001b[0;34m\u001b[0m\u001b[0m\n\u001b[1;32m    250\u001b[0m \u001b[0;34m\u001b[0m\u001b[0m\n",
      "\u001b[0;32m/root/anaconda3/lib/python3.7/site-packages/graphviz/backend.py\u001b[0m in \u001b[0;36mrun\u001b[0;34m(cmd, input, capture_output, check, encoding, quiet, **kwargs)\u001b[0m\n\u001b[1;32m    165\u001b[0m     \u001b[0;32mexcept\u001b[0m \u001b[0mOSError\u001b[0m \u001b[0;32mas\u001b[0m \u001b[0me\u001b[0m\u001b[0;34m:\u001b[0m\u001b[0;34m\u001b[0m\u001b[0;34m\u001b[0m\u001b[0m\n\u001b[1;32m    166\u001b[0m         \u001b[0;32mif\u001b[0m \u001b[0me\u001b[0m\u001b[0;34m.\u001b[0m\u001b[0merrno\u001b[0m \u001b[0;34m==\u001b[0m \u001b[0merrno\u001b[0m\u001b[0;34m.\u001b[0m\u001b[0mENOENT\u001b[0m\u001b[0;34m:\u001b[0m\u001b[0;34m\u001b[0m\u001b[0;34m\u001b[0m\u001b[0m\n\u001b[0;32m--> 167\u001b[0;31m             \u001b[0;32mraise\u001b[0m \u001b[0mExecutableNotFound\u001b[0m\u001b[0;34m(\u001b[0m\u001b[0mcmd\u001b[0m\u001b[0;34m)\u001b[0m\u001b[0;34m\u001b[0m\u001b[0;34m\u001b[0m\u001b[0m\n\u001b[0m\u001b[1;32m    168\u001b[0m         \u001b[0;32melse\u001b[0m\u001b[0;34m:\u001b[0m\u001b[0;34m\u001b[0m\u001b[0;34m\u001b[0m\u001b[0m\n\u001b[1;32m    169\u001b[0m             \u001b[0;32mraise\u001b[0m\u001b[0;34m\u001b[0m\u001b[0;34m\u001b[0m\u001b[0m\n",
      "\u001b[0;31mExecutableNotFound\u001b[0m: failed to execute ['dot', '-Kdot', '-Tsvg'], make sure the Graphviz executables are on your systems' PATH"
     ]
    },
    {
     "data": {
      "text/html": [
       "<div>\n",
       "<style scoped>\n",
       "    .dataframe tbody tr th:only-of-type {\n",
       "        vertical-align: middle;\n",
       "    }\n",
       "\n",
       "    .dataframe tbody tr th {\n",
       "        vertical-align: top;\n",
       "    }\n",
       "\n",
       "    .dataframe thead th {\n",
       "        text-align: right;\n",
       "    }\n",
       "</style>\n",
       "<table border=\"1\" class=\"dataframe\">\n",
       "  <thead>\n",
       "    <tr style=\"text-align: right;\">\n",
       "      <th></th>\n",
       "      <th>Layer Id</th>\n",
       "      <th>Layer</th>\n",
       "      <th>Type</th>\n",
       "      <th>Kernel Size</th>\n",
       "      <th>Stride</th>\n",
       "      <th>Activation</th>\n",
       "      <th>Output Size</th>\n",
       "      <th>Number of Parameters</th>\n",
       "      <th>FLOPS(forward pass)</th>\n",
       "    </tr>\n",
       "  </thead>\n",
       "  <tbody>\n",
       "    <tr>\n",
       "      <th>0</th>\n",
       "      <td>None</td>\n",
       "      <td>Input1</td>\n",
       "      <td>input</td>\n",
       "      <td></td>\n",
       "      <td></td>\n",
       "      <td>None</td>\n",
       "      <td>(28, 28, 1)</td>\n",
       "      <td>(0, 0)</td>\n",
       "      <td>0</td>\n",
       "    </tr>\n",
       "    <tr>\n",
       "      <th>1</th>\n",
       "      <td>None</td>\n",
       "      <td>Convo.1</td>\n",
       "      <td>convo</td>\n",
       "      <td>(5, 5)</td>\n",
       "      <td>(1, 1)</td>\n",
       "      <td>Relu</td>\n",
       "      <td>(28, 28, 6)</td>\n",
       "      <td>(150, 6)</td>\n",
       "      <td>117600</td>\n",
       "    </tr>\n",
       "    <tr>\n",
       "      <th>2</th>\n",
       "      <td>None</td>\n",
       "      <td>Pool1</td>\n",
       "      <td>pool</td>\n",
       "      <td>(2, 2)</td>\n",
       "      <td>(2, 2)</td>\n",
       "      <td>Max</td>\n",
       "      <td>(14, 14, 6)</td>\n",
       "      <td>(0, 0)</td>\n",
       "      <td>0</td>\n",
       "    </tr>\n",
       "    <tr>\n",
       "      <th>3</th>\n",
       "      <td>None</td>\n",
       "      <td>Convo.2</td>\n",
       "      <td>convo</td>\n",
       "      <td>(5, 5)</td>\n",
       "      <td>(1, 1)</td>\n",
       "      <td>Relu</td>\n",
       "      <td>(14, 14, 16)</td>\n",
       "      <td>(2400, 16)</td>\n",
       "      <td>470400</td>\n",
       "    </tr>\n",
       "    <tr>\n",
       "      <th>4</th>\n",
       "      <td>None</td>\n",
       "      <td>Pool2</td>\n",
       "      <td>pool</td>\n",
       "      <td>(2, 2)</td>\n",
       "      <td>(2, 2)</td>\n",
       "      <td>Max</td>\n",
       "      <td>(7, 7, 16)</td>\n",
       "      <td>(0, 0)</td>\n",
       "      <td>0</td>\n",
       "    </tr>\n",
       "    <tr>\n",
       "      <th>5</th>\n",
       "      <td>None</td>\n",
       "      <td>F.C.1</td>\n",
       "      <td>fc</td>\n",
       "      <td>(784, 120)</td>\n",
       "      <td></td>\n",
       "      <td>Relu</td>\n",
       "      <td>120</td>\n",
       "      <td>(94080, 0)</td>\n",
       "      <td>94080</td>\n",
       "    </tr>\n",
       "    <tr>\n",
       "      <th>6</th>\n",
       "      <td>None</td>\n",
       "      <td>F.C.2</td>\n",
       "      <td>fc</td>\n",
       "      <td>(120, 84)</td>\n",
       "      <td></td>\n",
       "      <td>Relu</td>\n",
       "      <td>84</td>\n",
       "      <td>(10080, 0)</td>\n",
       "      <td>10080</td>\n",
       "    </tr>\n",
       "    <tr>\n",
       "      <th>7</th>\n",
       "      <td>None</td>\n",
       "      <td>Output1</td>\n",
       "      <td>output</td>\n",
       "      <td></td>\n",
       "      <td></td>\n",
       "      <td>Softmax</td>\n",
       "      <td>None</td>\n",
       "      <td>(None, None)</td>\n",
       "      <td>0</td>\n",
       "    </tr>\n",
       "  </tbody>\n",
       "</table>\n",
       "</div>"
      ],
      "text/plain": [
       "<dlpy.sequential.Sequential at 0x7f47da1d7710>"
      ]
     },
     "execution_count": 22,
     "metadata": {},
     "output_type": "execute_result"
    }
   ],
   "source": [
    "model"
   ]
  },
  {
   "cell_type": "markdown",
   "metadata": {},
   "source": [
    "**Задание 5: Oбучение модели**<br>\n",
    "а) Обучите построенную модель. Гиперпараметры для обучения уже заданы, менять их не требуется. Не забудьте задать seed, чтобы  ваши результаты были воспроизводимыми. Полученная вами модель должна показать Miscalssification Rate < 15% на тестовой выборке."
   ]
  },
  {
   "cell_type": "code",
   "execution_count": 23,
   "metadata": {},
   "outputs": [],
   "source": [
    "from dlpy.model import *\n",
    "from dlpy.model import Optimizer\n",
    "from dlpy.lr_scheduler import *"
   ]
  },
  {
   "cell_type": "code",
   "execution_count": 24,
   "metadata": {},
   "outputs": [
    {
     "name": "stdout",
     "output_type": "stream",
     "text": [
      "The following argument(s) learning_rate, gamma, step_size, power are overwritten by the according arguments specified in lr_scheduler.\n"
     ]
    }
   ],
   "source": [
    "# Variable for Number of Epochs\n",
    "nEpoch=50\n",
    "\n",
    "# Variable for Number of Threads\n",
    "nThread=4\n",
    "\n",
    "# Variable for Batch Size\n",
    "batchSize=128\n",
    "\n",
    "# Calculate miniBatch Size\n",
    "miniBatch=math.ceil(batchSize/nThread)\n",
    "\n",
    "# Define Learning Rate scheduler parameters\n",
    "lr_scheduler=ReduceLROnPlateau(conn=s, \n",
    "                               cool_down_iters=3, \n",
    "                               gamma=0.8, \n",
    "                               learning_rate=0.001, \n",
    "                               patience=5\n",
    "                               )\n",
    "\n",
    "# Define Momentum Solver parameters\n",
    "solver=MomentumSolver(lr_scheduler=lr_scheduler,\n",
    "                      clip_grad_max = 100, \n",
    "                      clip_grad_min = -100\n",
    "                      )                       \n",
    "\n",
    "# Define Solver optimizer parameter settings\n",
    "optimizer=Optimizer(seed=12345, \n",
    "                    algorithm=solver, \n",
    "                    mini_batch_size = miniBatch, \n",
    "                    log_level=2, \n",
    "                    max_epochs=nEpoch, \n",
    "                    reg_l2=0.0005\n",
    "                    )\n"
   ]
  },
  {
   "cell_type": "code",
   "execution_count": 25,
   "metadata": {},
   "outputs": [
    {
     "name": "stdout",
     "output_type": "stream",
     "text": [
      "Help on method fit in module dlpy.model:\n",
      "\n",
      "fit(data, inputs=None, target=None, data_specs=None, mini_batch_size=1, max_epochs=5, log_level=3, lr=0.01, optimizer=None, nominals=None, texts=None, target_sequence=None, sequence=None, text_parms=None, valid_table=None, valid_freq=1, gpu=None, attributes=None, weight=None, seed=0, record_seed=0, missing='mean', target_missing='mean', repeat_weight_table=False, force_equal_padding=None, save_best_weights=False, n_threads=None, target_order='ascending', train_from_scratch=None) method of dlpy.sequential.Sequential instance\n",
      "    Fitting a deep learning model.\n",
      "    \n",
      "    Note that this function surfaces several parameters from other parameters. For example,\n",
      "    while learning rate is a parameter of Solver (that is a parameter of Optimizer), it is leveled up\n",
      "    so that our users can easily set learning rate without changing the default optimizer and solver.\n",
      "    If a non-default solver or optimizer is passed, then these leveled-up\n",
      "    parameters will be ignored - even they are set - and the ones coming from\n",
      "    the custom solver and custom optimizer  will be used. In addition to learning_rate (lr),\n",
      "    max_epochs and log_level are another examples of such parameters.\n",
      "    \n",
      "    Parameters\n",
      "    ----------\n",
      "    \n",
      "    data : string\n",
      "        This is the input data. It might be a string that is the\n",
      "        name of a cas table. Alternatively, this might be a cas table.\n",
      "    inputs : string or list-of-strings, optional\n",
      "        Specifies the input variables to use in the analysis.\n",
      "    target : string or list-of-strings, optional\n",
      "        Specifies the target sequence variables to use in the analysis.\n",
      "    data_specs : :class:`DataSpec`, optional\n",
      "        Specifies the parameters for the multiple input cases.\n",
      "    mini_batch_size : int, optional\n",
      "        Specifies the number of observations per thread in a\n",
      "        mini-batch. You can use this parameter to control the number of\n",
      "        observations that the action uses on each worker for each thread\n",
      "        to compute the gradient prior to updating the weights. Larger\n",
      "        values use more memory. When synchronous SGD is used (the\n",
      "        default), the total mini-batch size is equal to\n",
      "        miniBatchSize * number of threads * number of workers. When\n",
      "        asynchronous SGD is used (by specifying the elasticSyncFreq\n",
      "        parameter), each worker trains its own local model. In this case,\n",
      "        the total mini-batch size for each worker is\n",
      "        miniBatchSize * number of threads.\n",
      "    max_epochs : int, optional\n",
      "        specifies the maximum number of epochs. For SGD with a\n",
      "        single-machine server or a session that uses one worker on a\n",
      "        distributed server, one epoch is reached when the action passes\n",
      "        through the data one time. For a session that uses more than one\n",
      "        worker, one epoch is reached when all the workers exchange the\n",
      "        weights with the controller one time. The syncFreq parameter\n",
      "        specifies the number of times each worker passes through the\n",
      "        data before exchanging weights with the controller. For L-BFGS\n",
      "        with full batch, each L-BFGS iteration might process more than\n",
      "        one epoch, and final number of epochs might exceed the maximum\n",
      "        number of epochs.\n",
      "    log_level : int, optional\n",
      "        Specifies how progress messages are sent to the client. The\n",
      "        default value, 0, indicates that no messages are sent. Specify 1\n",
      "        to receive start and end messages. Specify 2 to include the\n",
      "        iteration history.\n",
      "    lr : double, optional\n",
      "        Specifies the learning rate.\n",
      "    optimizer : :class:`Optimizer`, optional\n",
      "        Specifies the parameters for the optimizer.\n",
      "    nominals : string or list-of-strings, optional\n",
      "        Specifies the nominal input variables to use in the analysis.\n",
      "    texts : string or list-of-strings, optional\n",
      "        Specifies the character variables to treat as raw text.\n",
      "        These variables must be specified in the inputs parameter.\n",
      "    target_sequence : string or list-of-strings, optional\n",
      "        Specifies the target sequence variables to use in the analysis.\n",
      "    sequence : :class:`Sequence`, optional\n",
      "        Specifies the settings for sequence data.\n",
      "    text_parms : :class:`TextParms`, optional\n",
      "        Specifies the parameters for the text inputs.\n",
      "    valid_table : string or CASTable, optional\n",
      "        Specifies the table with the validation data. The validation\n",
      "        table must have the same columns and data types as the training table.\n",
      "    valid_freq : int, optional\n",
      "        Specifies the frequency for scoring the validation table.\n",
      "    gpu : :class:`Gpu`, optional\n",
      "        When specified, the action uses graphical processing unit hardware.\n",
      "        The simplest way to use GPU processing is to specify \"gpu=1\".\n",
      "        In this case, the default values of other GPU parameters are used.\n",
      "        Setting gpu=1 enables all available GPU devices for use. Setting\n",
      "        gpu=0 disables GPU processing.\n",
      "    attributes : string or list-of-strings, optional\n",
      "        Specifies temporary attributes, such as a format, to apply to\n",
      "        input variables.\n",
      "    weight : string, optional\n",
      "        Specifies the variable/column name in the input table containing the\n",
      "        prior weights for the observation.\n",
      "    seed : double, optional\n",
      "        specifies the random number seed for the random number generator\n",
      "        in SGD. The default value, 0, and negative values indicate to use\n",
      "        random number streams based on the computer clock. Specify a value\n",
      "        that is greater than 0 for a reproducible random number sequence.\n",
      "    record_seed : double, optional\n",
      "        specifies the random number seed for the random record selection\n",
      "        within a worker. The default value 0 disables random record selection.\n",
      "        Records are read as they are laid out in memory.\n",
      "        Negative values indicate to use random number streams based on the\n",
      "        computer clock.\n",
      "    missing : string, optional\n",
      "        Specifies the policy for replacing missing values with imputed values.\n",
      "        Valid Values: MAX, MIN, MEAN, NONE\n",
      "        Default: MEAN\n",
      "    target_missing : string, optional\n",
      "        Specifies the policy for replacing target missing values with\n",
      "        imputed values.\n",
      "        Valid Values: MAX, MIN, MEAN, NONE\n",
      "        Default: MEAN\n",
      "    repeat_weight_table : bool, optional\n",
      "        Replicates the entire weight table on each worker node when saving\n",
      "        weights.\n",
      "        Default: False\n",
      "    force_equal_padding : bool, optional\n",
      "        For convolution or pooling layers, this setting forces left padding\n",
      "        to equal right padding, and top padding to equal bottom padding.\n",
      "        This setting might result in an output image that is\n",
      "        larger than the input image.\n",
      "        Default: False\n",
      "    save_best_weights : bool, optional\n",
      "        When set to True, it keeps the weights that provide the smallest\n",
      "        loss error.\n",
      "    n_threads : int, optional\n",
      "        Specifies the number of threads to use. If nothing is set then\n",
      "        all of the cores available in the machine(s) will be used.\n",
      "    target_order : string, optional\n",
      "        Specifies the order of the labels. It can follow the natural order\n",
      "        of the labels or order them in the order they are recieved with\n",
      "        training data samples.\n",
      "        Valid Values: 'ascending', 'descending', 'hash'\n",
      "        Default: 'ascending'\n",
      "    train_from_scratch : bool, optional\n",
      "        When set to True, it ignores the existing weights and trains the model from the scracth.\n",
      "    \n",
      "    Returns\n",
      "    --------\n",
      "    :class:`CASResults`\n",
      "\n"
     ]
    }
   ],
   "source": [
    "help(model.fit)"
   ]
  },
  {
   "cell_type": "code",
   "execution_count": 26,
   "metadata": {},
   "outputs": [
    {
     "name": "stdout",
     "output_type": "stream",
     "text": [
      "NOTE: Inputs=_image_ is used\n",
      "NOTE: Training from scratch.\n",
      "NOTE:  Synchronous mode is enabled.\n",
      "NOTE:  The total number of parameters is 107786.\n",
      "NOTE:  The approximate memory cost is 139.00 MB.\n",
      "NOTE:  Loading weights cost       0.00 (s).\n",
      "NOTE:  Initializing each layer cost       0.08 (s).\n",
      "NOTE:  The total number of threads on each worker is 40.\n",
      "NOTE:  The total mini-batch size per thread on each worker is 32.\n",
      "NOTE:  The maximum mini-batch size across all workers for the synchronous mode is 1280.\n",
      "NOTE:  Target variable: _label_\n",
      "NOTE:  Number of levels for the target variable:     10\n",
      "NOTE:  Levels for the target variable:\n",
      "NOTE:  Level      0: Ankle_boot \n",
      "NOTE:  Level      1: Bag        \n",
      "NOTE:  Level      2: Coat       \n",
      "NOTE:  Level      3: Dress      \n",
      "NOTE:  Level      4: Pullover   \n",
      "NOTE:  Level      5: Sandal     \n",
      "NOTE:  Level      6: Shirt      \n",
      "NOTE:  Level      7: Sneaker    \n",
      "NOTE:  Level      8: T-shirt|top\n",
      "NOTE:  Level      9: Trouser    \n",
      "NOTE:  Number of input variables:     1\n",
      "NOTE:  Number of numeric input variables:      1\n",
      "NOTE:  Epoch Learning Rate        Loss  Fit Error  Validation Loss Validation Error   Time(s)\n",
      "NOTE:  0         0.001           3.341     0.6612            1.141           0.4204     2.82\n",
      "NOTE:  1         0.001          0.8268     0.2984            0.668            0.244     2.81\n",
      "NOTE:  2         0.001          0.6242     0.2247           0.5709           0.2044     2.84\n",
      "NOTE:  3         0.001          0.5533     0.1973           0.5244           0.1881     2.68\n",
      "NOTE:  4         0.001          0.5096     0.1832           0.5002           0.1865     2.68\n",
      "NOTE:  5         0.001          0.4869     0.1791           0.4716           0.1701     2.85\n",
      "NOTE:  6         0.001          0.4663     0.1668           0.4583           0.1673     2.66\n",
      "NOTE:  7         0.001          0.4476     0.1609           0.4441           0.1602     2.68\n",
      "NOTE:  8         0.001          0.4413     0.1598            0.436           0.1552     3.23\n",
      "NOTE:  9         0.001          0.4196     0.1535           0.4282           0.1519     2.75\n",
      "NOTE:  10        0.001           0.412     0.1482           0.4149           0.1477     2.65\n",
      "NOTE:  11        0.001          0.4053      0.144           0.4119           0.1481     2.71\n",
      "NOTE:  12        0.001          0.4023      0.143           0.4083           0.1487     2.75\n",
      "NOTE:  13        0.001          0.3959     0.1416           0.4059           0.1481     2.70\n",
      "NOTE:  14        0.001          0.3876     0.1403           0.4041           0.1432     2.63\n",
      "NOTE:  15        0.001          0.3841     0.1392           0.3922           0.1391     2.74\n",
      "NOTE:  16        0.001          0.3797     0.1381           0.3872           0.1367     2.51\n",
      "NOTE:  17        0.001          0.3768      0.137           0.3862           0.1355     2.65\n",
      "NOTE:  18        0.001          0.3699     0.1328            0.383           0.1371     2.68\n",
      "NOTE:  19        0.001          0.3597     0.1295            0.389           0.1368     2.64\n",
      "NOTE:  20        0.001          0.3575     0.1286           0.3832           0.1339     2.73\n",
      "NOTE:  21        0.001          0.3571     0.1299           0.3755           0.1358     2.77\n",
      "NOTE:  22        0.001          0.3562     0.1289           0.3805            0.136     2.67\n",
      "NOTE:  23        0.001          0.3529     0.1285            0.374           0.1337     2.68\n",
      "NOTE:  24        0.001          0.3537     0.1289           0.3902           0.1409     2.76\n",
      "NOTE:  25        0.001          0.3511     0.1291           0.3679           0.1302     2.59\n",
      "NOTE:  26        0.001          0.3423     0.1245           0.3713           0.1321     2.67\n",
      "NOTE:  27        0.001          0.3406     0.1231           0.3665           0.1298     2.74\n",
      "NOTE:  28        0.001           0.341     0.1251           0.3635           0.1281     2.79\n",
      "NOTE:  29        0.001           0.334     0.1204           0.3686           0.1302     2.75\n",
      "NOTE:  30        0.001          0.3354     0.1231           0.3588           0.1279     2.90\n",
      "NOTE:  31        0.001          0.3321      0.119           0.3567           0.1255     2.75\n",
      "NOTE:  32        0.001          0.3232     0.1175           0.3587           0.1286     2.79\n",
      "NOTE:  33        0.001          0.3283     0.1186           0.3574           0.1258     3.36\n",
      "NOTE:  34        0.001          0.3217     0.1162           0.3563           0.1268     2.74\n",
      "NOTE:  35        0.001          0.3224     0.1165           0.3653           0.1296     2.70\n",
      "NOTE:  36        0.001          0.3185      0.116           0.3535           0.1268     2.73\n",
      "NOTE:  37        0.001          0.3151     0.1148           0.3518           0.1258     2.87\n",
      "NOTE:  38        0.001          0.3105     0.1129           0.3563           0.1283     2.69\n",
      "NOTE:  39        0.001           0.313     0.1127           0.3534           0.1236     2.65\n",
      "NOTE:  40        0.001          0.3189     0.1153           0.3503           0.1267     2.69\n",
      "NOTE:  41        0.001          0.3109     0.1142           0.3502           0.1241     2.70\n",
      "NOTE:  42        0.001          0.3085     0.1123           0.3472           0.1224     2.65\n",
      "NOTE:  43        0.001          0.3032     0.1106           0.3463           0.1217     2.54\n",
      "NOTE:  44        0.001          0.3023     0.1107           0.3568           0.1303     2.62\n",
      "NOTE:  45        0.001          0.2998     0.1102           0.3431           0.1218     2.84\n",
      "NOTE:  46        0.001          0.2971       0.11           0.3472           0.1242     2.91\n",
      "NOTE:  47        0.001          0.2935     0.1077           0.3485           0.1237     2.75\n",
      "NOTE:  48        0.001          0.2915     0.1072           0.3511           0.1242     2.76\n",
      "NOTE:  49        0.001          0.2886     0.1067           0.3451           0.1221     2.82\n",
      "NOTE:  The optimization reached the maximum number of epochs.\n",
      "NOTE:  The total time is     137.29 (s).\n"
     ]
    }
   ],
   "source": [
    "# код для обучения модели\n",
    "train_history = model.fit(train_data, valid_table=val_data, optimizer=optimizer, seed=42)"
   ]
  },
  {
   "attachments": {
    "training.PNG": {
     "image/png": "[encoded data removed]"
    }
   },
   "cell_type": "markdown",
   "metadata": {},
   "source": [
    "b) Пользуясь значениями в history, постройте график, анологичный изображенному.\n",
    "![training.PNG](attachment:training.PNG)"
   ]
  },
  {
   "cell_type": "code",
   "execution_count": 31,
   "metadata": {},
   "outputs": [
    {
     "data": {
      "text/plain": [
       "Text(0, 0.5, 'Accuracy')"
      ]
     },
     "execution_count": 31,
     "metadata": {},
     "output_type": "execute_result"
    },
    {
     "data": {
      "image/png": "[encoded data removed]",
      "text/plain": [
       "<Figure size 432x288 with 1 Axes>"
      ]
     },
     "metadata": {
      "needs_background": "light"
     },
     "output_type": "display_data"
    }
   ],
   "source": [
    "history = train_history[\"OptIterHistory\"]\n",
    "ax = (1 - history[['FitError', 'ValidError']].rename(columns={'FitError':'train', 'ValidError':'validation'})).plot()\n",
    "ax.set_title('Model Accuracy')\n",
    "ax.set_xlabel('Epoch')\n",
    "ax.set_ylabel('Accuracy')\n",
    "#код для построения графика#"
   ]
  },
  {
   "cell_type": "markdown",
   "metadata": {},
   "source": [
    "**Задание 6: Oценка качества модели**<br>"
   ]
  },
  {
   "cell_type": "markdown",
   "metadata": {},
   "source": [
    "а) Выведите матрицу ошибок на валидационной выборке для модели и ответьте на следующие вопросы:\n",
    "- Сколько изображений сумок было корректно классифицированно моделью?\n",
    "- Сколько пулловеров было классифицированно моделью как рубашки? Наоборот?\n",
    "- В классификации какого предмета одежды модель ошибалась чаще всего? А реже всего?"
   ]
  },
  {
   "cell_type": "code",
   "execution_count": null,
   "metadata": {},
   "outputs": [],
   "source": [
    "# код для вывода матрицы ошибок#"
   ]
  },
  {
   "cell_type": "markdown",
   "metadata": {},
   "source": [
    "Ваши ответы на вопросы:\n",
    "1)\n",
    "2)\n",
    "3)"
   ]
  },
  {
   "cell_type": "markdown",
   "metadata": {},
   "source": [
    "b) Проскорьте модель на тестовой выборке."
   ]
  },
  {
   "cell_type": "code",
   "execution_count": null,
   "metadata": {},
   "outputs": [],
   "source": [
    "# код для скоринга #"
   ]
  },
  {
   "cell_type": "markdown",
   "metadata": {},
   "source": [
    "c) Выведите пример изображения, классифицированного верно, с помощью встроенной функции класса Model."
   ]
  },
  {
   "cell_type": "code",
   "execution_count": null,
   "metadata": {},
   "outputs": [],
   "source": [
    "# код для вывода верно классифицированного изображения#"
   ]
  },
  {
   "cell_type": "markdown",
   "metadata": {},
   "source": [
    "d) Выведите пример изображения, классифицированного ошибочно, с помощью встроенной функции класса Model."
   ]
  },
  {
   "cell_type": "code",
   "execution_count": null,
   "metadata": {},
   "outputs": [],
   "source": [
    "# код для вывода неверно классифицированного изображения#"
   ]
  },
  {
   "cell_type": "markdown",
   "metadata": {},
   "source": [
    "e) Сохраните полученную модель в SAS-таблицу, с помощью одного из методов класса Model."
   ]
  },
  {
   "cell_type": "code",
   "execution_count": null,
   "metadata": {},
   "outputs": [],
   "source": [
    "# код для сохранения модели #"
   ]
  },
  {
   "cell_type": "markdown",
   "metadata": {},
   "source": [
    "**Дополнительное задание: Aугментации исходных данных**<br>\n",
    "Изучите документацию к CAS-action augmentImages. Попробуйте улучшить результат предыдущей модели, применив аугментации к исходным данным и, по желанию, другие техники для улучшения качества модели. Полученную модель проскорьте на тестовой выборке и сохраните в SAS-таблицу. Выведите метрики качества новой модели на тестовой выборке."
   ]
  },
  {
   "cell_type": "code",
   "execution_count": null,
   "metadata": {},
   "outputs": [],
   "source": [
    "s.augmentImages(table=train_data,"
   ]
  }
 ],
 "metadata": {
  "kernelspec": {
   "display_name": "Python 3",
   "language": "python",
   "name": "python3"
  },
  "language_info": {
   "codemirror_mode": {
    "name": "ipython",
    "version": 3
   },
   "file_extension": ".py",
   "mimetype": "text/x-python",
   "name": "python",
   "nbconvert_exporter": "python",
   "pygments_lexer": "ipython3",
   "version": "3.7.6"
  }
 },
 "nbformat": 4,
 "nbformat_minor": 4
}
